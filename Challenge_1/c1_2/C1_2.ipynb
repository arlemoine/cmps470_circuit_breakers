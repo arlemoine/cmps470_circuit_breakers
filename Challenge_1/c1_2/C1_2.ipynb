{
 "cells": [
  {
   "cell_type": "markdown",
   "metadata": {},
   "source": [
    "# <center>Challenge 1.2<center>"
   ]
  },
  {
   "cell_type": "markdown",
   "metadata": {},
   "source": [
    "<p>Team Name: Circuit Breakers\n",
    "<p>Student Names: Adriean Lemoine, Chris Smith"
   ]
  },
  {
   "cell_type": "markdown",
   "metadata": {},
   "source": [
    "## Instructions\n",
    "Use generic coding style unless hard-coded values are really necessary.<br>\n",
    "Your code must be efficient and use self-explanatory naming.<br>\n",
    "Use appropriate Python library methods for each task instead of using loops.<br>\n",
    "Run your entire code and save. Then submit this <b>saved</b> copy."
   ]
  },
  {
   "cell_type": "markdown",
   "metadata": {
    "collapsed": true,
    "jupyter": {
     "outputs_hidden": true
    }
   },
   "source": [
    "## Imports"
   ]
  },
  {
   "cell_type": "code",
   "execution_count": 1,
   "metadata": {},
   "outputs": [],
   "source": [
    "from matplotlib import pyplot as plt\n",
    "import numpy as np\n",
    "import pandas as pd\n",
    "import seaborn as sns\n",
    "from sklearn.preprocessing import MinMaxScaler, StandardScaler"
   ]
  },
  {
   "cell_type": "markdown",
   "metadata": {},
   "source": [
    "# PART I"
   ]
  },
  {
   "cell_type": "markdown",
   "metadata": {},
   "source": [
    "## Prepare Data"
   ]
  },
  {
   "cell_type": "markdown",
   "metadata": {},
   "source": [
    "<b>A. Create a data sets with 100 data points with the following attributes (features) for two classes as such:</b>\n",
    "\n",
    "b1 = normal distribution N(mean=40,var=16)<br>\n",
    "b2 = normal distribution N(mean=40,var=4)<br>\n",
    "Pr(b1,b2,LABEL) = {(b1, b2, 1)}, data objects with class positive<br>\n",
    "P = Rotate(Pr,45), rotate Pr by 45 degrees in counter-clockwise<br>\n",
    "Nr = Shift(Pr,b1,10), shift in b1-dimension by 10 units towards right, data objects with class negative. Nr(LABEL) = 0<br>\n",
    "N = Rotate(Nr,45), rotate Nr by 45 degrees in counter-clockwise<br>\n",
    "Merge Pr and Nr to get PNr, and P and N to obtain PN<br>"
   ]
  },
  {
   "cell_type": "code",
   "execution_count": 5,
   "metadata": {},
   "outputs": [],
   "source": [
    "# Create reproducible random values\n",
    "np.random.seed(0) \n",
    "\n",
    "# General variables\n",
    "n = 100\n",
    "\n",
    "# Generate b1\n",
    "b1_mean = 40\n",
    "b1_var = 16\n",
    "b1 = np.random.normal(loc=b1_mean, scale=np.sqrt(b1_var), size=n)\n",
    "\n",
    "# Generate b2\n",
    "b2_min = 14\n",
    "b2_max = 26\n",
    "b2 = np.random.uniform(low=b2_min, high=b2_max, size=n)"
   ]
  },
  {
   "cell_type": "code",
   "execution_count": 4,
   "metadata": {},
   "outputs": [
    {
     "name": "stdout",
     "output_type": "stream",
     "text": [
      "           b1         b2  LABEL\n",
      "0   47.056209  19.086261      1\n",
      "1   41.600629  21.276719      1\n",
      "2   43.914952  14.230318      1\n",
      "3   48.963573  17.618898      1\n",
      "4   47.470232  21.922082      1\n",
      "..        ...        ...    ...\n",
      "95  42.826293  23.972581      1\n",
      "96  40.042000  21.547782      1\n",
      "97  47.143482  24.471808      1\n",
      "98  40.507648  17.282504      1\n",
      "99  41.607957  23.576562      1\n",
      "\n",
      "[100 rows x 3 columns]\n"
     ]
    }
   ],
   "source": [
    "def rotate(pts, degrees):\n",
    "    \"\"\"\n",
    "    Rotate a given 2D point by a number of degrees with center of rotation at (0,0).\n",
    "    pts = DataFrame with 2 attributes, representing x1 and x2\n",
    "    degrees = Angle in the counter-clockwise direction.\n",
    "    \"\"\"\n",
    "    radians = math.radians(degrees)\n",
    "    R = []\n",
    "    for x1, x2 in pts:\n",
    "        rx1 = x1 * math.cos(radians) - x2 * math.sin(radians)\n",
    "        rx2 = x1 * math.sin(radians) + x2 * math.cos(radians)\n",
    "        R.append((rx1, rx2))\n",
    "    #\n",
    "    return R\n",
    "#\n",
    "\n",
    "def shift(pts, axis, shiftValue):\n",
    "    \"\"\"\n",
    "    Shift a given 2D point by a set value on either axis.\n",
    "    pts = DataFrame with 2 attributes, representing x1 and x2\n",
    "    axis = Either x1 or x2\n",
    "    shiftValue = Value to shift by on either axis\n",
    "    \"\"\"\n",
    "    S = []\n",
    "    # Shift on x1 axis\n",
    "    if axis == 'x1':\n",
    "        for x1, x2 in pts:\n",
    "            sx1 = x1 + shiftValue\n",
    "            S.append((sx1, x2))\n",
    "        #\n",
    "    elif axis == 'x2':\n",
    "        for x1, x2 in pts:\n",
    "            sx2 = x2 + shiftValue\n",
    "            S.append((x1, sx2))\n",
    "        #\n",
    "    else:\n",
    "        print('Invalid axis provided to function shift().')\n",
    "        sys.exit()\n",
    "    #\n",
    "    return S\n",
    "#\n",
    "\n",
    "# Generate Pr\n",
    "Pr = pd.DataFrame({\n",
    "    'b1': b1,\n",
    "    'b2': b2,\n",
    "})\n",
    "Pr['LABEL'] = 1\n",
    "\n",
    "\n",
    "print(Pr)"
   ]
  },
  {
   "cell_type": "code",
   "execution_count": null,
   "metadata": {},
   "outputs": [],
   "source": [
    "Nr = \n",
    "N = "
   ]
  },
  {
   "cell_type": "code",
   "execution_count": null,
   "metadata": {},
   "outputs": [],
   "source": [
    "PNr = \n",
    "PN = "
   ]
  },
  {
   "cell_type": "markdown",
   "metadata": {},
   "source": [
    "<b>B. Scaling </b>"
   ]
  },
  {
   "cell_type": "markdown",
   "metadata": {},
   "source": [
    "Apply scaling to PN by min-max to [0, 1], PN1:"
   ]
  },
  {
   "cell_type": "code",
   "execution_count": null,
   "metadata": {},
   "outputs": [],
   "source": [
    "PN1 = "
   ]
  },
  {
   "cell_type": "markdown",
   "metadata": {},
   "source": [
    "Apply scaling to PN by min-max to [-1, 1], PN2:"
   ]
  },
  {
   "cell_type": "code",
   "execution_count": null,
   "metadata": {},
   "outputs": [],
   "source": [
    "PN2 = "
   ]
  },
  {
   "cell_type": "markdown",
   "metadata": {},
   "source": [
    "Apply scaling to PN by std-normal, PN3:"
   ]
  },
  {
   "cell_type": "code",
   "execution_count": null,
   "metadata": {},
   "outputs": [],
   "source": [
    "PN3 = "
   ]
  },
  {
   "cell_type": "markdown",
   "metadata": {},
   "source": [
    "## Visualize Data"
   ]
  },
  {
   "cell_type": "markdown",
   "metadata": {},
   "source": [
    "Plot PNr, PN, PN1, PN2, PN3 in the same figure on a separate sub-plots of 2 by 3. The axis scale should be the same. The color of P\\* and N\\* will be green and blue, respectively. The shape of all data points will be circle:"
   ]
  },
  {
   "cell_type": "code",
   "execution_count": null,
   "metadata": {},
   "outputs": [],
   "source": []
  },
  {
   "cell_type": "markdown",
   "metadata": {},
   "source": [
    "# PART II - K-NN Classification"
   ]
  },
  {
   "cell_type": "markdown",
   "metadata": {},
   "source": [
    "### A. Obtain 60% training dTrn, 20% validation dVal, 20% test dTst for each data set per class:"
   ]
  },
  {
   "cell_type": "code",
   "execution_count": null,
   "metadata": {},
   "outputs": [],
   "source": [
    "def getData(pInput,pRatio):\n",
    "    #complete as needed\n",
    "    #return dTrn, dVal, dTst\n",
    "    #pRatio = (0.6, 0.2, 0.3) as an example\n",
    "    pass\n",
    "        \n",
    "#\n",
    "\n"
   ]
  },
  {
   "cell_type": "markdown",
   "metadata": {},
   "source": [
    "### B. Explore K-NN Classifiers"
   ]
  },
  {
   "cell_type": "code",
   "execution_count": null,
   "metadata": {},
   "outputs": [],
   "source": [
    "'''\n",
    "Performance measures: Sensitivity, specificity, accuracy, F1\n",
    "\n",
    "Define a function knnClassifier(pTrn, pVal, pTst, eps, *kwargs)\n",
    "k = 1\n",
    "Loop: Increase k by 1; k<len(pTrn)\n",
    "   Generate Model\n",
    "   Obtain contingency table based on validation data set\n",
    "   Calculate accuracy over validation data set\n",
    "\n",
    "   k = k + 1\n",
    "   #\n",
    "#\n",
    "Plot accuracy-K chart\n",
    "\n",
    "Find the best k-vaue.\n",
    "For the best k-value:\n",
    "   Obtain contingency table for testing data set\n",
    "   Calculate performance measures for testing data set\n",
    "   return (performance measures, contingency table)\n",
    "\n",
    "'''"
   ]
  },
  {
   "cell_type": "code",
   "execution_count": null,
   "metadata": {},
   "outputs": [],
   "source": [
    "def knnClassifier(pTrn, pVal, pTst, eps, *kwargs):\n",
    "    #complete as needed\n",
    "    #return the model and performance measures\n",
    "    k = 2\n",
    "    \n",
    "\n",
    "#"
   ]
  },
  {
   "cell_type": "markdown",
   "metadata": {},
   "source": [
    "### C. Run experiments for each data set {PNr, PN, PN1, PN2, PN3}"
   ]
  },
  {
   "cell_type": "code",
   "execution_count": null,
   "metadata": {},
   "outputs": [],
   "source": [
    "'''\n",
    "For each data set {PNr, PN, PN1, PN2, PN3}\n",
    "   Get training, validation, test data sets\n",
    "   Run KNN for training and validation date sets\n",
    "   Find the best model\n",
    "   Obtain contingency table for the test data set\n",
    "   Calculate performance measures for the test data set\n",
    "'''"
   ]
  },
  {
   "cell_type": "code",
   "execution_count": null,
   "metadata": {},
   "outputs": [],
   "source": []
  },
  {
   "cell_type": "markdown",
   "metadata": {},
   "source": [
    "### D. Visualize Results"
   ]
  },
  {
   "cell_type": "markdown",
   "metadata": {},
   "source": [
    "<b>Plot training (shape: Circle) and test (shape: Triangle) data sets of {PNr, PN, PN1, PN2, PN3} on a separate sub-plot in the same figure:</b>"
   ]
  },
  {
   "cell_type": "code",
   "execution_count": null,
   "metadata": {},
   "outputs": [],
   "source": [
    "def plotSets():\n",
    "    pass\n",
    "#"
   ]
  },
  {
   "cell_type": "code",
   "execution_count": null,
   "metadata": {},
   "outputs": [],
   "source": []
  },
  {
   "cell_type": "markdown",
   "metadata": {},
   "source": [
    "<b>Plot accuracy-K charts for each data set (P\\*, N\\*) on a separate sub-plot in the same figure:</b>"
   ]
  },
  {
   "cell_type": "code",
   "execution_count": null,
   "metadata": {},
   "outputs": [],
   "source": [
    "def plotKChart():\n",
    "    pass\n",
    "#"
   ]
  },
  {
   "cell_type": "code",
   "execution_count": null,
   "metadata": {},
   "outputs": [],
   "source": []
  },
  {
   "cell_type": "markdown",
   "metadata": {},
   "source": [
    "<b>Plot sensitivity, specificity, accuracy, and F1 of the best KNN-C for each data set (P\\*, N\\*) on a separate sub-plot in the same figure:</b> Hint: There will be 4 sup-plots with a bar-chart."
   ]
  },
  {
   "cell_type": "code",
   "execution_count": null,
   "metadata": {},
   "outputs": [],
   "source": [
    "def plotPerform():\n",
    "    pass\n",
    "#"
   ]
  },
  {
   "cell_type": "code",
   "execution_count": null,
   "metadata": {},
   "outputs": [],
   "source": []
  },
  {
   "cell_type": "markdown",
   "metadata": {},
   "source": [
    "# PART III - Discussion\n",
    "Discuss how scaling affects the classification performance of K-NN classifier based on each performance measures"
   ]
  },
  {
   "cell_type": "markdown",
   "metadata": {},
   "source": []
  },
  {
   "cell_type": "markdown",
   "metadata": {
    "collapsed": true,
    "jupyter": {
     "outputs_hidden": true
    }
   },
   "source": [
    "## <center> REFERENCES </center>\n",
    "List resources (book, internet page, etc.) that you used to complete this challenge."
   ]
  },
  {
   "cell_type": "markdown",
   "metadata": {},
   "source": []
  }
 ],
 "metadata": {
  "kernelspec": {
   "display_name": "Python 3 (ipykernel)",
   "language": "python",
   "name": "python3"
  },
  "language_info": {
   "codemirror_mode": {
    "name": "ipython",
    "version": 3
   },
   "file_extension": ".py",
   "mimetype": "text/x-python",
   "name": "python",
   "nbconvert_exporter": "python",
   "pygments_lexer": "ipython3",
   "version": "3.11.6"
  }
 },
 "nbformat": 4,
 "nbformat_minor": 4
}
