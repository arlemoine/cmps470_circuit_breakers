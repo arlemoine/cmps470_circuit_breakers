{
 "cells": [
  {
   "cell_type": "markdown",
   "metadata": {},
   "source": [
    "# <center>Challenge 0<center>"
   ]
  },
  {
   "cell_type": "markdown",
   "metadata": {},
   "source": [
    "<p>Team Name:\n",
    "<p>Student Names:"
   ]
  },
  {
   "cell_type": "markdown",
   "metadata": {},
   "source": [
    "## Instructions\n",
    "Use generic coding style unless hard-coded values are really necessary.<br>\n",
    "Your code must be efficient and use self-explanatory naming.<br>\n",
    "Use appropriate Python library methods for each task instead of using loops.<br>\n",
    "Run your entire code and save. Then submit this <b>saved</b> copy."
   ]
  },
  {
   "cell_type": "markdown",
   "metadata": {
    "collapsed": true,
    "jupyter": {
     "outputs_hidden": true
    }
   },
   "source": [
    "## Imports"
   ]
  },
  {
   "cell_type": "code",
   "execution_count": 2,
   "metadata": {},
   "outputs": [],
   "source": [
    "import math\n",
    "import numpy as np\n",
    "import pandas as pd\n"
   ]
  },
  {
   "cell_type": "markdown",
   "metadata": {},
   "source": [
    "# PART I"
   ]
  },
  {
   "cell_type": "markdown",
   "metadata": {},
   "source": [
    "## Prepare Data"
   ]
  },
  {
   "cell_type": "markdown",
   "metadata": {
    "collapsed": true,
    "jupyter": {
     "outputs_hidden": true
    }
   },
   "source": [
    "<b>A. Create a data set D with 100 data points with the following attributes (features) as such:</b><br>\n",
    "seed = 0<br>\n",
    "a1 is from a normal distribution N(mean=20,var=4)<br>\n",
    "a2 is from a uniform distribution U(min=14,max=26)<br>"
   ]
  },
  {
   "cell_type": "code",
   "execution_count": 5,
   "metadata": {},
   "outputs": [
    {
     "name": "stdout",
     "output_type": "stream",
     "text": [
      "           a1         a2\n",
      "0   23.528105  19.086261\n",
      "1   20.800314  21.276719\n",
      "2   21.957476  14.230318\n",
      "3   24.481786  17.618898\n",
      "4   23.735116  21.922082\n",
      "..        ...        ...\n",
      "95  21.413146  23.972581\n",
      "96  20.021000  21.547782\n",
      "97  23.571741  24.471808\n",
      "98  20.253824  17.282504\n",
      "99  20.803979  23.576562\n",
      "\n",
      "[100 rows x 2 columns]\n"
     ]
    }
   ],
   "source": [
    "np.random.seed(0)\n",
    "n = 100\n",
    "\n",
    "# Create a1\n",
    "a1_mean = 20\n",
    "a1_var = 4\n",
    "a1 = np.random.normal(loc=a1_mean, scale=np.sqrt(a1_var), size=n)\n",
    "\n",
    "# Create a2\n",
    "a2_min = 14\n",
    "a2_max = 26\n",
    "a2 = np.random.uniform(low=a2_min, high=a2_max, size=n)\n",
    "\n",
    "# Create dataframe\n",
    "D = pd.DataFrame({\n",
    "    'a1': a1,\n",
    "    'a2': a2\n",
    "})\n",
    "\n",
    "print(D)"
   ]
  },
  {
   "cell_type": "markdown",
   "metadata": {},
   "source": [
    "x1 = 2*a1<br>\n",
    "x2 = normal distribution N(mean=40,var=4)<br>\n",
    "Pr(x1,x2,target) = {(x1, x2, 'P')}, data objects with class positive<br>\n",
    "P = Rotate(Pr,45), rotate Pr by 45 degrees in counter-clockwise<br>\n",
    "Nr = Shift(Pr,x1,20), shift in x1-dimension by 20 units towards right, data objects with class negative, where\n",
    "Nr(x1,x2,target) = {(x1_shifted, x2, 'N')}<br>\n",
    "N = Rotate(Nr,45), rotate Nr by 45 degrees in counter-clockwise<br>"
   ]
  },
  {
   "cell_type": "code",
   "execution_count": 8,
   "metadata": {},
   "outputs": [
    {
     "name": "stdout",
     "output_type": "stream",
     "text": [
      "           a1         a2         x1         x2\n",
      "0   23.528105  19.086261  47.056209  38.695183\n",
      "1   20.800314  21.276719  41.600629  39.218093\n",
      "2   21.957476  14.230318  43.914952  40.987484\n",
      "3   24.481786  17.618898  48.963573  39.767792\n",
      "4   23.735116  21.922082  47.470232  35.938631\n",
      "..        ...        ...        ...        ...\n",
      "95  21.413146  23.972581  42.826293  37.743977\n",
      "96  20.021000  21.547782  40.042000  40.560883\n",
      "97  23.571741  24.471808  47.143482  38.013753\n",
      "98  20.253824  17.282504  40.507648  41.683263\n",
      "99  20.803979  23.576562  41.607957  39.501083\n",
      "\n",
      "[100 rows x 4 columns]\n",
      "           x1         x2 target\n",
      "0   47.056209  38.695183      P\n",
      "1   41.600629  39.218093      P\n",
      "2   43.914952  40.987484      P\n",
      "3   48.963573  39.767792      P\n",
      "4   47.470232  35.938631      P\n",
      "..        ...        ...    ...\n",
      "95  42.826293  37.743977      P\n",
      "96  40.042000  40.560883      P\n",
      "97  47.143482  38.013753      P\n",
      "98  40.507648  41.683263      P\n",
      "99  41.607957  39.501083      P\n",
      "\n",
      "[100 rows x 3 columns]\n"
     ]
    }
   ],
   "source": [
    "def rotate(points, degrees):\n",
    "    radians = math.radians(degrees)\n",
    "    \n",
    "\n",
    "# Create x1\n",
    "D['x1'] = 2 * D['a1']\n",
    "\n",
    "# Create x2\n",
    "x2_mean = 40\n",
    "x2_var = 4\n",
    "D['x2'] = np.random.normal(loc=x2_mean, scale=np.sqrt(x2_var), size=len(D))\n",
    "\n",
    "# Create Pr\n",
    "Pr = D[['x1', 'x2']].copy()\n",
    "Pr['target'] = 'P'\n",
    "\n",
    "print(D)\n",
    "print(Pr)"
   ]
  },
  {
   "cell_type": "markdown",
   "metadata": {},
   "source": [
    "### Merge Data"
   ]
  },
  {
   "cell_type": "markdown",
   "metadata": {},
   "source": [
    "Merge Pr and Nr into a single set PNr. "
   ]
  },
  {
   "cell_type": "code",
   "execution_count": null,
   "metadata": {},
   "outputs": [],
   "source": []
  },
  {
   "cell_type": "markdown",
   "metadata": {},
   "source": [
    "# PART II"
   ]
  },
  {
   "cell_type": "markdown",
   "metadata": {},
   "source": [
    "## Visualize Data\n",
    "The axis scale should be the same. The class-P and -N data points will in red-circle and blue-triangle, respectively."
   ]
  },
  {
   "cell_type": "markdown",
   "metadata": {},
   "source": [
    "Plot Pr and P in the same figure on a separate sub-plots of 1 by 2:"
   ]
  },
  {
   "cell_type": "code",
   "execution_count": null,
   "metadata": {},
   "outputs": [],
   "source": []
  },
  {
   "cell_type": "markdown",
   "metadata": {},
   "source": [
    "Plot Nr and N in the same figure on a separate sub-plots of 1 by 2:"
   ]
  },
  {
   "cell_type": "code",
   "execution_count": null,
   "metadata": {},
   "outputs": [],
   "source": []
  },
  {
   "cell_type": "markdown",
   "metadata": {},
   "source": [
    "Plot {PNr}:"
   ]
  },
  {
   "cell_type": "code",
   "execution_count": null,
   "metadata": {},
   "outputs": [],
   "source": []
  },
  {
   "cell_type": "markdown",
   "metadata": {},
   "source": [
    "# PART III"
   ]
  },
  {
   "cell_type": "markdown",
   "metadata": {},
   "source": [
    "## Simple Classifier"
   ]
  },
  {
   "cell_type": "markdown",
   "metadata": {},
   "source": [
    "Classifier SimpleClassifier:\n",
    "Given data D(x1, x2),<br>\n",
    "If x1 + x2 > median, then predicted class<br>\n",
    "...    <b>N</b><br>\n",
    "Else<br>\n",
    "...    <b>P</b>"
   ]
  },
  {
   "cell_type": "markdown",
   "metadata": {},
   "source": [
    "Obtain predicted class labels using SimpleClassifier:"
   ]
  },
  {
   "cell_type": "code",
   "execution_count": null,
   "metadata": {},
   "outputs": [],
   "source": []
  },
  {
   "cell_type": "markdown",
   "metadata": {},
   "source": [
    "Print output Y(x1,x2,True_Target, Predicted_Target)"
   ]
  },
  {
   "cell_type": "code",
   "execution_count": null,
   "metadata": {},
   "outputs": [],
   "source": []
  },
  {
   "cell_type": "markdown",
   "metadata": {},
   "source": [
    "Plot output Y. Use the same marker shape. Predicted Target colors: P in Red and N in blue."
   ]
  },
  {
   "cell_type": "code",
   "execution_count": null,
   "metadata": {},
   "outputs": [],
   "source": []
  },
  {
   "cell_type": "markdown",
   "metadata": {},
   "source": [
    "Obtain the Confusion Matrix and print:"
   ]
  },
  {
   "cell_type": "code",
   "execution_count": null,
   "metadata": {},
   "outputs": [],
   "source": []
  },
  {
   "cell_type": "markdown",
   "metadata": {},
   "source": [
    "Claculate the Performance Scores of Accuracy, Recall (Sensitivity), Specificity, F1-score. Plot as bar-chart:"
   ]
  },
  {
   "cell_type": "code",
   "execution_count": null,
   "metadata": {},
   "outputs": [],
   "source": []
  },
  {
   "cell_type": "markdown",
   "metadata": {
    "collapsed": true,
    "jupyter": {
     "outputs_hidden": true
    }
   },
   "source": [
    "## <center> REFERENCES </center>\n",
    "List resources (book, internet page, etc.) that you used to complete this challenge."
   ]
  },
  {
   "cell_type": "markdown",
   "metadata": {},
   "source": []
  }
 ],
 "metadata": {
  "kernelspec": {
   "display_name": "Python 3 (ipykernel)",
   "language": "python",
   "name": "python3"
  },
  "language_info": {
   "codemirror_mode": {
    "name": "ipython",
    "version": 3
   },
   "file_extension": ".py",
   "mimetype": "text/x-python",
   "name": "python",
   "nbconvert_exporter": "python",
   "pygments_lexer": "ipython3",
   "version": "3.11.6"
  }
 },
 "nbformat": 4,
 "nbformat_minor": 4
}
