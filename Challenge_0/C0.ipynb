{
 "cells": [
  {
   "cell_type": "markdown",
   "metadata": {},
   "source": [
    "# <center>Challenge 0<center>"
   ]
  },
  {
   "cell_type": "markdown",
   "metadata": {},
   "source": [
    "<p>Team Name:\n",
    "<p>Student Names:"
   ]
  },
  {
   "cell_type": "markdown",
   "metadata": {},
   "source": [
    "## Instructions\n",
    "Use generic coding style unless hard-coded values are really necessary.<br>\n",
    "Your code must be efficient and use self-explanatory naming.<br>\n",
    "Use appropriate Python library methods for each task instead of using loops.<br>\n",
    "Run your entire code and save. Then submit this <b>saved</b> copy."
   ]
  },
  {
   "cell_type": "markdown",
   "metadata": {
    "collapsed": true,
    "jupyter": {
     "outputs_hidden": true
    }
   },
   "source": [
    "## Imports"
   ]
  },
  {
   "cell_type": "code",
   "execution_count": 1,
   "metadata": {},
   "outputs": [],
   "source": [
    "import math\n",
    "import matplotlib.pyplot as plt\n",
    "import numpy as np\n",
    "import pandas as pd\n"
   ]
  },
  {
   "cell_type": "markdown",
   "metadata": {},
   "source": [
    "# PART I"
   ]
  },
  {
   "cell_type": "markdown",
   "metadata": {},
   "source": [
    "## Prepare Data"
   ]
  },
  {
   "cell_type": "markdown",
   "metadata": {
    "collapsed": true,
    "jupyter": {
     "outputs_hidden": true
    }
   },
   "source": [
    "<b>A. Create a data set D with 100 data points with the following attributes (features) as such:</b><br>\n",
    "seed = 0<br>\n",
    "a1 is from a normal distribution N(mean=20,var=4)<br>\n",
    "a2 is from a uniform distribution U(min=14,max=26)<br>"
   ]
  },
  {
   "cell_type": "code",
   "execution_count": 2,
   "metadata": {},
   "outputs": [
    {
     "name": "stdout",
     "output_type": "stream",
     "text": [
      "           a1         a2\n",
      "0   23.528105  19.086261\n",
      "1   20.800314  21.276719\n",
      "2   21.957476  14.230318\n",
      "3   24.481786  17.618898\n",
      "4   23.735116  21.922082\n",
      "..        ...        ...\n",
      "95  21.413146  23.972581\n",
      "96  20.021000  21.547782\n",
      "97  23.571741  24.471808\n",
      "98  20.253824  17.282504\n",
      "99  20.803979  23.576562\n",
      "\n",
      "[100 rows x 2 columns]\n"
     ]
    }
   ],
   "source": [
    "np.random.seed(0)\n",
    "n = 100\n",
    "\n",
    "# Create a1\n",
    "a1_mean = 20\n",
    "a1_var = 4\n",
    "a1 = np.random.normal(loc=a1_mean, scale=np.sqrt(a1_var), size=n)\n",
    "\n",
    "# Create a2\n",
    "a2_min = 14\n",
    "a2_max = 26\n",
    "a2 = np.random.uniform(low=a2_min, high=a2_max, size=n)\n",
    "\n",
    "# Create dataframe\n",
    "D = pd.DataFrame({\n",
    "    'a1': a1,\n",
    "    'a2': a2\n",
    "})\n",
    "\n",
    "print(D)"
   ]
  },
  {
   "cell_type": "markdown",
   "metadata": {},
   "source": [
    "x1 = 2*a1<br>\n",
    "x2 = normal distribution N(mean=40,var=4)<br>\n",
    "Pr(x1,x2,target) = {(x1, x2, 'P')}, data objects with class positive<br>\n",
    "P = Rotate(Pr,45), rotate Pr by 45 degrees in counter-clockwise<br>\n",
    "Nr = Shift(Pr,x1,20), shift in x1-dimension by 20 units towards right, data objects with class negative, where\n",
    "Nr(x1,x2,target) = {(x1_shifted, x2, 'N')}<br>\n",
    "N = Rotate(Nr,45), rotate Nr by 45 degrees in counter-clockwise<br>"
   ]
  },
  {
   "cell_type": "code",
   "execution_count": 5,
   "metadata": {},
   "outputs": [
    {
     "name": "stdout",
     "output_type": "stream",
     "text": [
      "\n",
      "DataFrame D =========================\n",
      "           a1         a2         x1         x2\n",
      "0   23.528105  19.086261  47.056209  40.098990\n",
      "1   20.800314  21.276719  41.600629  40.987674\n",
      "2   21.957476  14.230318  43.914952  41.286629\n",
      "3   24.481786  17.618898  48.963573  36.858753\n",
      "4   23.735116  21.922082  47.470232  39.586193\n",
      "..        ...        ...        ...        ...\n",
      "95  21.413146  23.972581  42.826293  40.502969\n",
      "96  20.021000  21.547782  40.042000  35.967187\n",
      "97  23.571741  24.471808  47.143482  38.921091\n",
      "98  20.253824  17.282504  40.507648  39.448659\n",
      "99  20.803979  23.576562  41.607957  38.580544\n",
      "\n",
      "[100 rows x 4 columns]\n",
      "\n",
      "DataFrame Pr =========================\n",
      "           x1         x2 target\n",
      "0   47.056209  40.098990      P\n",
      "1   41.600629  40.987674      P\n",
      "2   43.914952  41.286629      P\n",
      "3   48.963573  36.858753      P\n",
      "4   47.470232  39.586193      P\n",
      "..        ...        ...    ...\n",
      "95  42.826293  40.502969      P\n",
      "96  40.042000  35.967187      P\n",
      "97  47.143482  38.921091      P\n",
      "98  40.507648  39.448659      P\n",
      "99  41.607957  38.580544      P\n",
      "\n",
      "[100 rows x 3 columns]\n",
      "\n",
      "DataFrame P =========================\n",
      "          x1         x2\n",
      "0   4.919497  61.628032\n",
      "1   0.433425  58.398749\n",
      "2   1.858505  60.246616\n",
      "3   8.559400  60.685549\n",
      "4   5.574858  61.558188\n",
      "..       ...        ...\n",
      "95  1.642838  58.922686\n",
      "96  2.881328  53.746611\n",
      "97  5.814109  60.856843\n",
      "98  0.748819  56.537647\n",
      "99  2.140705  56.701833\n",
      "\n",
      "[100 rows x 2 columns]\n",
      "\n",
      "DataFrame Nr =========================\n",
      "           x1         x2 target\n",
      "0   67.056209  40.098990      N\n",
      "1   61.600629  40.987674      N\n",
      "2   63.914952  41.286629      N\n",
      "3   68.963573  36.858753      N\n",
      "4   67.470232  39.586193      N\n",
      "..        ...        ...    ...\n",
      "95  62.826293  40.502969      N\n",
      "96  60.042000  35.967187      N\n",
      "97  67.143482  38.921091      N\n",
      "98  60.507648  39.448659      N\n",
      "99  61.607957  38.580544      N\n",
      "\n",
      "[100 rows x 3 columns]\n",
      "\n",
      "DataFrame N =========================\n",
      "           x1         x2\n",
      "0   19.061633  75.770168\n",
      "1   14.575560  72.540884\n",
      "2   16.000641  74.388751\n",
      "3   22.701536  74.827684\n",
      "4   19.716993  75.700324\n",
      "..        ...        ...\n",
      "95  15.784974  73.064822\n",
      "96  17.023464  67.888747\n",
      "97  19.956244  74.998979\n",
      "98  14.890954  70.679783\n",
      "99  16.282840  70.843969\n",
      "\n",
      "[100 rows x 2 columns]\n"
     ]
    }
   ],
   "source": [
    "def rotate(pts, degrees):\n",
    "    \"\"\"\n",
    "    Rotate a given 2D point by a number of degrees with center of rotation at (0,0).\n",
    "    pts = DataFrame with 2 attributes, representing x1 and x2\n",
    "    degrees = Angle in the counter-clockwise direction.\n",
    "    \"\"\"\n",
    "    radians = math.radians(degrees)\n",
    "    R = []\n",
    "    for x1, x2 in pts:\n",
    "        rx1 = x1 * math.cos(radians) - x2 * math.sin(radians)\n",
    "        rx2 = x1 * math.sin(radians) + x2 * math.cos(radians)\n",
    "        R.append((rx1, rx2))\n",
    "    #\n",
    "    return R\n",
    "#\n",
    "\n",
    "def shift(pts, axis, shiftValue):\n",
    "    \"\"\"\n",
    "    Shift a given 2D point by a set value on either axis.\n",
    "    pts = DataFrame with 2 attributes, representing x1 and x2\n",
    "    axis = Either x1 or x2\n",
    "    shiftValue = Value to shift by on either axis\n",
    "    \"\"\"\n",
    "    S = []\n",
    "    # Shift on x1 axis\n",
    "    if axis == 'x1':\n",
    "        for x1, x2 in pts:\n",
    "            sx1 = x1 + shiftValue\n",
    "            S.append((sx1, x2))\n",
    "        #\n",
    "    elif axis == 'x2':\n",
    "        for x1, x2 in pts:\n",
    "            sx2 = x2 + shiftValue\n",
    "            S.append((x1, sx2))\n",
    "        #\n",
    "    else:\n",
    "        print('Invalid axis provided to function shift().')\n",
    "        sys.exit()\n",
    "    #\n",
    "    return S\n",
    "#\n",
    "\n",
    "# Create x1\n",
    "D['x1'] = 2 * D['a1']\n",
    "\n",
    "# Create x2\n",
    "x2_mean = 40\n",
    "x2_var = 4\n",
    "D['x2'] = np.random.normal(loc=x2_mean, scale=np.sqrt(x2_var), size=len(D))\n",
    "\n",
    "# Create Pr\n",
    "Pr = D[['x1', 'x2']].copy()\n",
    "Pr['target'] = 'P'\n",
    "\n",
    "# Create P\n",
    "Pr_x = Pr[['x1', 'x2']].values\n",
    "Pr_x_rotate = rotate(Pr_x, 45)\n",
    "P = pd.DataFrame(Pr_x_rotate, columns=['x1', 'x2'])\n",
    "\n",
    "# Create Nr\n",
    "Pr_x_shift = shift(Pr_x, 'x1', 20)\n",
    "Nr = pd.DataFrame(Pr_x_shift, columns=['x1', 'x2'])\n",
    "Nr['target'] = 'N'\n",
    "\n",
    "# Create N\n",
    "Nr_x = Nr[['x1', 'x2']].values\n",
    "Nr_x_rotate = rotate(Nr_x, 45)\n",
    "N = pd.DataFrame(Nr_x_rotate, columns=['x1', 'x2'])\n",
    "\n",
    "print('\\nDataFrame D =========================')\n",
    "print(D)\n",
    "print('\\nDataFrame Pr =========================')\n",
    "print(Pr)\n",
    "print('\\nDataFrame P =========================')\n",
    "print(P)\n",
    "print('\\nDataFrame Nr =========================')\n",
    "print(Nr)\n",
    "print('\\nDataFrame N =========================')\n",
    "print(N)"
   ]
  },
  {
   "cell_type": "markdown",
   "metadata": {},
   "source": [
    "### Merge Data"
   ]
  },
  {
   "cell_type": "markdown",
   "metadata": {},
   "source": [
    "Merge Pr and Nr into a single set PNr. "
   ]
  },
  {
   "cell_type": "code",
   "execution_count": 6,
   "metadata": {},
   "outputs": [
    {
     "name": "stdout",
     "output_type": "stream",
     "text": [
      "            x1         x2 target\n",
      "0    47.056209  40.098990      P\n",
      "1    41.600629  40.987674      P\n",
      "2    43.914952  41.286629      P\n",
      "3    48.963573  36.858753      P\n",
      "4    47.470232  39.586193      P\n",
      "..         ...        ...    ...\n",
      "195  62.826293  40.502969      N\n",
      "196  60.042000  35.967187      N\n",
      "197  67.143482  38.921091      N\n",
      "198  60.507648  39.448659      N\n",
      "199  61.607957  38.580544      N\n",
      "\n",
      "[200 rows x 3 columns]\n"
     ]
    }
   ],
   "source": [
    "PNr = pd.concat([Pr, Nr], ignore_index=True)\n",
    "\n",
    "print(PNr)"
   ]
  },
  {
   "cell_type": "markdown",
   "metadata": {},
   "source": [
    "# PART II"
   ]
  },
  {
   "cell_type": "markdown",
   "metadata": {},
   "source": [
    "## Visualize Data\n",
    "The axis scale should be the same. The class-P and -N data points will in red-circle and blue-triangle, respectively."
   ]
  },
  {
   "cell_type": "markdown",
   "metadata": {},
   "source": [
    "Plot Pr and P in the same figure on a separate sub-plots of 1 by 2:"
   ]
  },
  {
   "cell_type": "code",
   "execution_count": null,
   "metadata": {},
   "outputs": [],
   "source": []
  },
  {
   "cell_type": "markdown",
   "metadata": {},
   "source": [
    "Plot Nr and N in the same figure on a separate sub-plots of 1 by 2:"
   ]
  },
  {
   "cell_type": "code",
   "execution_count": null,
   "metadata": {},
   "outputs": [],
   "source": []
  },
  {
   "cell_type": "markdown",
   "metadata": {},
   "source": [
    "Plot {PNr}:"
   ]
  },
  {
   "cell_type": "code",
   "execution_count": null,
   "metadata": {},
   "outputs": [],
   "source": []
  },
  {
   "cell_type": "markdown",
   "metadata": {},
   "source": [
    "# PART III"
   ]
  },
  {
   "cell_type": "markdown",
   "metadata": {},
   "source": [
    "## Simple Classifier"
   ]
  },
  {
   "cell_type": "markdown",
   "metadata": {},
   "source": [
    "Classifier SimpleClassifier:\n",
    "Given data D(x1, x2),<br>\n",
    "If x1 + x2 > median, then predicted class<br>\n",
    "...    <b>N</b><br>\n",
    "Else<br>\n",
    "...    <b>P</b>"
   ]
  },
  {
   "cell_type": "markdown",
   "metadata": {},
   "source": [
    "Obtain predicted class labels using SimpleClassifier:"
   ]
  },
  {
   "cell_type": "code",
   "execution_count": null,
   "metadata": {},
   "outputs": [],
   "source": []
  },
  {
   "cell_type": "markdown",
   "metadata": {},
   "source": [
    "Print output Y(x1,x2,True_Target, Predicted_Target)"
   ]
  },
  {
   "cell_type": "code",
   "execution_count": null,
   "metadata": {},
   "outputs": [],
   "source": []
  },
  {
   "cell_type": "markdown",
   "metadata": {},
   "source": [
    "Plot output Y. Use the same marker shape. Predicted Target colors: P in Red and N in blue."
   ]
  },
  {
   "cell_type": "code",
   "execution_count": null,
   "metadata": {},
   "outputs": [],
   "source": []
  },
  {
   "cell_type": "markdown",
   "metadata": {},
   "source": [
    "Obtain the Confusion Matrix and print:"
   ]
  },
  {
   "cell_type": "code",
   "execution_count": null,
   "metadata": {},
   "outputs": [],
   "source": []
  },
  {
   "cell_type": "markdown",
   "metadata": {},
   "source": [
    "Claculate the Performance Scores of Accuracy, Recall (Sensitivity), Specificity, F1-score. Plot as bar-chart:"
   ]
  },
  {
   "cell_type": "code",
   "execution_count": null,
   "metadata": {},
   "outputs": [],
   "source": []
  },
  {
   "cell_type": "markdown",
   "metadata": {
    "collapsed": true,
    "jupyter": {
     "outputs_hidden": true
    }
   },
   "source": [
    "## <center> REFERENCES </center>\n",
    "List resources (book, internet page, etc.) that you used to complete this challenge."
   ]
  },
  {
   "cell_type": "markdown",
   "metadata": {},
   "source": []
  }
 ],
 "metadata": {
  "kernelspec": {
   "display_name": "Python 3 (ipykernel)",
   "language": "python",
   "name": "python3"
  },
  "language_info": {
   "codemirror_mode": {
    "name": "ipython",
    "version": 3
   },
   "file_extension": ".py",
   "mimetype": "text/x-python",
   "name": "python",
   "nbconvert_exporter": "python",
   "pygments_lexer": "ipython3",
   "version": "3.11.6"
  }
 },
 "nbformat": 4,
 "nbformat_minor": 4
}
