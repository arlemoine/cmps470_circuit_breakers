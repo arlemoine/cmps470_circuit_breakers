{
 "cells": [
  {
   "cell_type": "markdown",
   "metadata": {},
   "source": [
    "# <center>Challenge 0<center>"
   ]
  },
  {
   "cell_type": "markdown",
   "metadata": {},
   "source": [
    "<p>Team Name:\n",
    "<p>Student Names:"
   ]
  },
  {
   "cell_type": "markdown",
   "metadata": {},
   "source": [
    "## Instructions\n",
    "Use generic coding style unless hard-coded values are really necessary.<br>\n",
    "Your code must be efficient and use self-explanatory naming.<br>\n",
    "Use appropriate Python library methods for each task instead of using loops.<br>\n",
    "Run your entire code and save. Then submit this <b>saved</b> copy."
   ]
  },
  {
   "cell_type": "markdown",
   "metadata": {
    "collapsed": true,
    "jupyter": {
     "outputs_hidden": true
    }
   },
   "source": [
    "## Imports"
   ]
  },
  {
   "cell_type": "code",
   "execution_count": 7,
   "metadata": {},
   "outputs": [],
   "source": [
    "import math\n",
    "import matplotlib.pyplot as plt\n",
    "import numpy as np\n",
    "import pandas as pd\n"
   ]
  },
  {
   "cell_type": "markdown",
   "metadata": {},
   "source": [
    "# PART I"
   ]
  },
  {
   "cell_type": "markdown",
   "metadata": {},
   "source": [
    "## Prepare Data"
   ]
  },
  {
   "cell_type": "markdown",
   "metadata": {
    "collapsed": true,
    "jupyter": {
     "outputs_hidden": true
    }
   },
   "source": [
    "<b>A. Create a data set D with 100 data points with the following attributes (features) as such:</b><br>\n",
    "seed = 0<br>\n",
    "a1 is from a normal distribution N(mean=20,var=4)<br>\n",
    "a2 is from a uniform distribution U(min=14,max=26)<br>"
   ]
  },
  {
   "cell_type": "code",
   "execution_count": 8,
   "metadata": {},
   "outputs": [
    {
     "name": "stdout",
     "output_type": "stream",
     "text": [
      "           a1         a2\n",
      "0   23.528105  19.086261\n",
      "1   20.800314  21.276719\n",
      "2   21.957476  14.230318\n",
      "3   24.481786  17.618898\n",
      "4   23.735116  21.922082\n",
      "..        ...        ...\n",
      "95  21.413146  23.972581\n",
      "96  20.021000  21.547782\n",
      "97  23.571741  24.471808\n",
      "98  20.253824  17.282504\n",
      "99  20.803979  23.576562\n",
      "\n",
      "[100 rows x 2 columns]\n"
     ]
    }
   ],
   "source": [
    "np.random.seed(0)\n",
    "n = 100\n",
    "\n",
    "# Create a1\n",
    "a1_mean = 20\n",
    "a1_var = 4\n",
    "a1 = np.random.normal(loc=a1_mean, scale=np.sqrt(a1_var), size=n)\n",
    "\n",
    "# Create a2\n",
    "a2_min = 14\n",
    "a2_max = 26\n",
    "a2 = np.random.uniform(low=a2_min, high=a2_max, size=n)\n",
    "\n",
    "# Create dataframe\n",
    "D = pd.DataFrame({\n",
    "    'a1': a1,\n",
    "    'a2': a2\n",
    "})\n",
    "\n",
    "print(D)"
   ]
  },
  {
   "cell_type": "markdown",
   "metadata": {},
   "source": [
    "x1 = 2*a1<br>\n",
    "x2 = normal distribution N(mean=40,var=4)<br>\n",
    "Pr(x1,x2,target) = {(x1, x2, 'P')}, data objects with class positive<br>\n",
    "P = Rotate(Pr,45), rotate Pr by 45 degrees in counter-clockwise<br>\n",
    "Nr = Shift(Pr,x1,20), shift in x1-dimension by 20 units towards right, data objects with class negative, where\n",
    "Nr(x1,x2,target) = {(x1_shifted, x2, 'N')}<br>\n",
    "N = Rotate(Nr,45), rotate Nr by 45 degrees in counter-clockwise<br>"
   ]
  },
  {
   "cell_type": "code",
   "execution_count": null,
   "metadata": {},
   "outputs": [
    {
     "name": "stdout",
     "output_type": "stream",
     "text": [
      "\n",
      "DataFrame P =========================\n",
      "          x1         x2\n",
      "0   5.912139  60.635391\n",
      "1   1.684707  57.147466\n",
      "2   2.070033  60.035088\n",
      "3   6.502399  62.742550\n",
      "4   8.154073  58.978973\n",
      "..       ...        ...\n",
      "95  3.593740  56.971784\n",
      "96 -0.366906  56.994846\n",
      "97  6.455693  60.215258\n",
      "98 -0.831285  58.117750\n",
      "99  1.489785  57.352752\n",
      "\n",
      "[100 rows x 2 columns]\n",
      "\n",
      "DataFrame Pr =========================\n",
      "           x1         x2 target\n",
      "0   47.056209  38.695183      P\n",
      "1   41.600629  39.218093      P\n",
      "2   43.914952  40.987484      P\n",
      "3   48.963573  39.767792      P\n",
      "4   47.470232  35.938631      P\n",
      "..        ...        ...    ...\n",
      "95  42.826293  37.743977      P\n",
      "96  40.042000  40.560883      P\n",
      "97  47.143482  38.013753      P\n",
      "98  40.507648  41.683263      P\n",
      "99  41.607957  39.501083      P\n",
      "\n",
      "[100 rows x 3 columns]\n",
      "\n",
      "DataFrame D =========================\n",
      "           a1         a2         x1         x2\n",
      "0   23.528105  19.086261  47.056209  38.695183\n",
      "1   20.800314  21.276719  41.600629  39.218093\n",
      "2   21.957476  14.230318  43.914952  40.987484\n",
      "3   24.481786  17.618898  48.963573  39.767792\n",
      "4   23.735116  21.922082  47.470232  35.938631\n",
      "..        ...        ...        ...        ...\n",
      "95  21.413146  23.972581  42.826293  37.743977\n",
      "96  20.021000  21.547782  40.042000  40.560883\n",
      "97  23.571741  24.471808  47.143482  38.013753\n",
      "98  20.253824  17.282504  40.507648  41.683263\n",
      "99  20.803979  23.576562  41.607957  39.501083\n",
      "\n",
      "[100 rows x 4 columns]\n",
      "\n",
      "DataFrame Nr =========================\n",
      "           x1         x2 target\n",
      "0   67.056209  38.695183      N\n",
      "1   61.600629  39.218093      N\n",
      "2   63.914952  40.987484      N\n",
      "3   68.963573  39.767792      N\n",
      "4   67.470232  35.938631      N\n",
      "..        ...        ...    ...\n",
      "95  62.826293  37.743977      N\n",
      "96  60.042000  40.560883      N\n",
      "97  67.143482  38.013753      N\n",
      "98  60.507648  41.683263      N\n",
      "99  61.607957  39.501083      N\n",
      "\n",
      "[100 rows x 3 columns]\n",
      "\n",
      "DataFrame N =========================\n",
      "           x1         x2\n",
      "0   20.054274  74.777527\n",
      "1   15.826843  71.289602\n",
      "2   16.212168  74.177223\n",
      "3   20.644534  76.884685\n",
      "4   22.296209  73.121108\n",
      "..        ...        ...\n",
      "95  17.735875  71.113920\n",
      "96  13.775230  71.136981\n",
      "97  20.597829  74.357394\n",
      "98  13.310851  72.259886\n",
      "99  15.631921  71.494888\n",
      "\n",
      "[100 rows x 2 columns]\n"
     ]
    }
   ],
   "source": [
    "def rotate(pts, degrees):\n",
    "    \"\"\"\n",
    "    Rotate a given 2D point by a number of degrees with center of rotation at (0,0).\n",
    "    pts = DataFrame with 2 attributes, representing x1 and x2\n",
    "    degrees = Angle in the counter-clockwise direction.\n",
    "    \"\"\"\n",
    "    radians = math.radians(degrees)\n",
    "    R = []\n",
    "    for x1, x2 in pts:\n",
    "        rx1 = x1 * math.cos(radians) - x2 * math.sin(radians)\n",
    "        rx2 = x1 * math.sin(radians) + x2 * math.cos(radians)\n",
    "        R.append((rx1, rx2))\n",
    "    #\n",
    "    return R\n",
    "#\n",
    "\n",
    "def shift(pts, axis, shiftValue):\n",
    "    \"\"\"\n",
    "    Shift a given 2D point by a set value on either axis.\n",
    "    pts = DataFrame with 2 attributes, representing x1 and x2\n",
    "    axis = Either x1 or x2\n",
    "    shiftValue = Value to shift by on either axis\n",
    "    \"\"\"\n",
    "    S = []\n",
    "    # Shift on x1 axis\n",
    "    if axis == 'x1':\n",
    "        for x1, x2 in pts:\n",
    "            sx1 = x1 + shiftValue\n",
    "            S.append((sx1, x2))\n",
    "        #\n",
    "    elif axis == 'x2':\n",
    "        for x1, x2 in pts:\n",
    "            sx2 = x2 + shiftValue\n",
    "            S.append((x1, sx2))\n",
    "        #\n",
    "    else:\n",
    "        print('Invalid axis provided to function shift().')\n",
    "        sys.exit()\n",
    "    #\n",
    "    return S\n",
    "#\n",
    "\n",
    "# Create x1\n",
    "D['x1'] = 2 * D['a1']\n",
    "\n",
    "# Create x2\n",
    "x2_mean = 40\n",
    "x2_var = 4\n",
    "D['x2'] = np.random.normal(loc=x2_mean, scale=np.sqrt(x2_var), size=len(D))\n",
    "\n",
    "# Create Pr\n",
    "Pr = D[['x1', 'x2']].copy()\n",
    "Pr['target'] = 'P'\n",
    "\n",
    "# Create P\n",
    "Pr_x = Pr[['x1', 'x2']].values\n",
    "Pr_x_rotate = rotate(Pr_x, 45)\n",
    "P = pd.DataFrame(Pr_x_rotate, columns=['x1', 'x2'])\n",
    "\n",
    "# Create Nr\n",
    "Pr_x_shift = shift(Pr_x, 'x1', 20)\n",
    "Nr = pd.DataFrame(Pr_x_shift, columns=['x1', 'x2'])\n",
    "Nr['target'] = 'N'\n",
    "\n",
    "# Create N\n",
    "Nr_x = Nr[['x1', 'x2']].values\n",
    "Nr_x_rotate = rotate(Nr_x, 45)\n",
    "N = pd.DataFrame(Nr_x_rotate, columns=['x1', 'x2'])\n",
    "\n",
    "print('\\nDataFrame P =========================')\n",
    "print(P)\n",
    "print('\\nDataFrame Pr =========================')\n",
    "print(Pr)\n",
    "print('\\nDataFrame D =========================')\n",
    "print(D)\n",
    "print('\\nDataFrame Nr =========================')\n",
    "print(Nr)\n",
    "print('\\nDataFrame N =========================')\n",
    "print(N)"
   ]
  },
  {
   "cell_type": "markdown",
   "metadata": {},
   "source": [
    "### Merge Data"
   ]
  },
  {
   "cell_type": "markdown",
   "metadata": {},
   "source": [
    "Merge Pr and Nr into a single set PNr. "
   ]
  },
  {
   "cell_type": "code",
   "execution_count": 10,
   "metadata": {},
   "outputs": [
    {
     "name": "stdout",
     "output_type": "stream",
     "text": [
      "            x1         x2 target\n",
      "0    47.056209  37.931514      P\n",
      "1    41.600629  41.363189      P\n",
      "2    43.914952  38.393181      P\n",
      "3    48.963573  38.620900      P\n",
      "4    47.470232  39.088935      P\n",
      "..         ...        ...    ...\n",
      "195  62.826293  40.194800      N\n",
      "196  60.042000  40.798093      N\n",
      "197  67.143482  34.454814      N\n",
      "198  60.507648  43.911825      N\n",
      "199  61.607957  40.780187      N\n",
      "\n",
      "[200 rows x 3 columns]\n"
     ]
    }
   ],
   "source": [
    "PNr = pd.concat([Pr, Nr], ignore_index=True)\n",
    "\n",
    "print(PNr)"
   ]
  },
  {
   "cell_type": "markdown",
   "metadata": {},
   "source": [
    "# PART II"
   ]
  },
  {
   "cell_type": "markdown",
   "metadata": {},
   "source": [
    "## Visualize Data\n",
    "The axis scale should be the same. The class-P and -N data points will in red-circle and blue-triangle, respectively."
   ]
  },
  {
   "cell_type": "markdown",
   "metadata": {},
   "source": [
    "Plot Pr and P in the same figure on a separate sub-plots of 1 by 2:"
   ]
  },
  {
   "cell_type": "code",
   "execution_count": 91,
   "metadata": {},
   "outputs": [
    {
     "data": {
      "image/png": "[encoded data removed]",
      "text/plain": [
       "<Figure size 1500x500 with 2 Axes>"
      ]
     },
     "metadata": {},
     "output_type": "display_data"
    }
   ],
   "source": [
    "dfs = [P, Pr, N, Nr]\n",
    "\n",
    "x_min, x_max = np.min([df['x1'].min() for df in dfs]) - 5, np.max([df['x1'].max() for df in dfs]) + 5\n",
    "y_min, y_max = np.min([df['x2'].min() for df in dfs]) - 5, np.max([df['x2'].max() for df in dfs]) + 5\n",
    "\n",
    "fig, axs = plt.subplots(1, 2, figsize=(15, 5))\n",
    "\n",
    "scatter_plot_params = {\n",
    "    'xlabel': 'x1',\n",
    "    'ylabel': 'x2',\n",
    "    'xlim': (x_min, x_max),\n",
    "    'ylim': (y_min, y_max),\n",
    "    'aspect': 'equal'\n",
    "}\n",
    "\n",
    "for ax, (df, title) in zip(axs, [(Pr, 'Pr'), (P, 'P')]):\n",
    "    ax.scatter(df['x1'], df['x2'], c='r', marker='o',label=title)\n",
    "    ax.set_title(title)\n",
    "    ax.set(**scatter_plot_params)\n",
    "\n",
    "plt.show()"
   ]
  },
  {
   "cell_type": "markdown",
   "metadata": {},
   "source": [
    "Plot Nr and N in the same figure on a separate sub-plots of 1 by 2:"
   ]
  },
  {
   "cell_type": "code",
   "execution_count": 92,
   "metadata": {},
   "outputs": [
    {
     "data": {
      "image/png": "[encoded data removed]",
      "text/plain": [
       "<Figure size 1500x500 with 2 Axes>"
      ]
     },
     "metadata": {},
     "output_type": "display_data"
    }
   ],
   "source": [
    "fig, axs = plt.subplots(1, 2, figsize=(15, 5))\n",
    "\n",
    "for ax, (df, title) in zip(axs, [(Nr, 'Nr'), (N, 'N')]):\n",
    "    ax.scatter(df['x1'], df['x2'], c='b', marker='^',label=title)\n",
    "    ax.set_title(title)\n",
    "    ax.set(**scatter_plot_params)\n",
    "\n",
    "plt.show()"
   ]
  },
  {
   "cell_type": "markdown",
   "metadata": {},
   "source": [
    "Plot {PNr}:"
   ]
  },
  {
   "cell_type": "code",
   "execution_count": null,
   "metadata": {},
   "outputs": [
    {
     "data": {
      "image/png": "[encoded data removed]",
      "text/plain": [
       "<Figure size 1500x500 with 1 Axes>"
      ]
     },
     "metadata": {},
     "output_type": "display_data"
    }
   ],
   "source": [
    "fig, axs = plt.subplots(1, 1, figsize=(15, 5))\n",
    "\n",
    "for ax, (df, title) in zip([axs], [(PNr, 'PNr')]):\n",
    "    ax.scatter(df['x1'], df['x2'], c='b', marker='^', label=title)\n",
    "    ax.set_title(title)\n",
    "    ax.set(**scatter_plot_params)\n",
    "\n",
    "plt.show()"
   ]
  },
  {
   "cell_type": "markdown",
   "metadata": {},
   "source": [
    "# PART III"
   ]
  },
  {
   "cell_type": "markdown",
   "metadata": {},
   "source": [
    "## Simple Classifier"
   ]
  },
  {
   "cell_type": "markdown",
   "metadata": {},
   "source": [
    "Classifier SimpleClassifier:\n",
    "Given data D(x1, x2),<br>\n",
    "If x1 + x2 > median, then predicted class<br>\n",
    "...    <b>N</b><br>\n",
    "Else<br>\n",
    "...    <b>P</b>"
   ]
  },
  {
   "cell_type": "markdown",
   "metadata": {},
   "source": [
    "Obtain predicted class labels using SimpleClassifier:"
   ]
  },
  {
   "cell_type": "code",
   "execution_count": null,
   "metadata": {},
   "outputs": [],
   "source": []
  },
  {
   "cell_type": "markdown",
   "metadata": {},
   "source": [
    "Print output Y(x1,x2,True_Target, Predicted_Target)"
   ]
  },
  {
   "cell_type": "code",
   "execution_count": null,
   "metadata": {},
   "outputs": [],
   "source": []
  },
  {
   "cell_type": "markdown",
   "metadata": {},
   "source": [
    "Plot output Y. Use the same marker shape. Predicted Target colors: P in Red and N in blue."
   ]
  },
  {
   "cell_type": "code",
   "execution_count": null,
   "metadata": {},
   "outputs": [],
   "source": []
  },
  {
   "cell_type": "markdown",
   "metadata": {},
   "source": [
    "Obtain the Confusion Matrix and print:"
   ]
  },
  {
   "cell_type": "code",
   "execution_count": null,
   "metadata": {},
   "outputs": [],
   "source": []
  },
  {
   "cell_type": "markdown",
   "metadata": {},
   "source": [
    "Claculate the Performance Scores of Accuracy, Recall (Sensitivity), Specificity, F1-score. Plot as bar-chart:"
   ]
  },
  {
   "cell_type": "code",
   "execution_count": null,
   "metadata": {},
   "outputs": [],
   "source": []
  },
  {
   "cell_type": "markdown",
   "metadata": {
    "collapsed": true,
    "jupyter": {
     "outputs_hidden": true
    }
   },
   "source": [
    "## <center> REFERENCES </center>\n",
    "List resources (book, internet page, etc.) that you used to complete this challenge."
   ]
  },
  {
   "cell_type": "markdown",
   "metadata": {},
   "source": []
  }
 ],
 "metadata": {
  "kernelspec": {
   "display_name": "base",
   "language": "python",
   "name": "python3"
  },
  "language_info": {
   "codemirror_mode": {
    "name": "ipython",
    "version": 3
   },
   "file_extension": ".py",
   "mimetype": "text/x-python",
   "name": "python",
   "nbconvert_exporter": "python",
   "pygments_lexer": "ipython3",
   "version": "3.12.7"
  }
 },
 "nbformat": 4,
 "nbformat_minor": 4
}
