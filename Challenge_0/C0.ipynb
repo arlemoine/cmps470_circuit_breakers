{
 "cells": [
  {
   "cell_type": "markdown",
   "metadata": {},
   "source": [
    "# <center>Challenge 0<center>"
   ]
  },
  {
   "cell_type": "markdown",
   "metadata": {},
   "source": [
    "<p>Team Name:\n",
    "<p>Student Names:"
   ]
  },
  {
   "cell_type": "markdown",
   "metadata": {},
   "source": [
    "## Instructions\n",
    "Use generic coding style unless hard-coded values are really necessary.<br>\n",
    "Your code must be efficient and use self-explanatory naming.<br>\n",
    "Use appropriate Python library methods for each task instead of using loops.<br>\n",
    "Run your entire code and save. Then submit this <b>saved</b> copy."
   ]
  },
  {
   "cell_type": "markdown",
   "metadata": {
    "collapsed": true
   },
   "source": [
    "## Imports"
   ]
  },
  {
   "cell_type": "code",
   "execution_count": null,
   "metadata": {},
   "outputs": [],
   "source": [
    "import numpy as np\n",
    "import pandas as pd\n"
   ]
  },
  {
   "cell_type": "markdown",
   "metadata": {},
   "source": [
    "# PART I"
   ]
  },
  {
   "cell_type": "markdown",
   "metadata": {},
   "source": [
    "## Prepare Data"
   ]
  },
  {
   "cell_type": "markdown",
   "metadata": {
    "collapsed": true
   },
   "source": [
    "<b>A. Create a data set D with 100 data points with the following attributes (features) as such:</b><br>\n",
    "seed = 0<br>\n",
    "a1 is from a normal distribution N(mean=20,var=4)<br>\n",
    "a2 is from a uniform distribution U(min=14,max=26)<br>"
   ]
  },
  {
   "cell_type": "code",
   "execution_count": null,
   "metadata": {},
   "outputs": [],
   "source": [
    "np.random.seed(0)\n",
    "\n",
    "n = 100\n",
    "\n",
    "a1 = np.random.normal(loc=20, scale=np.sqrt(4), size=n)\n",
    "\n",
    "a2 = np.random.uniform(low=14, high=26, size=n)\n",
    "\n",
    "data = pd.DataFrame({\n",
    "    'a1': a1,\n",
    "    'a2': a2\n",
    "})\n",
    "\n",
    "print(data)"
   ]
  },
  {
   "cell_type": "markdown",
   "metadata": {},
   "source": [
    "x1 = 2*a1<br>\n",
    "x2 = normal distribution N(mean=40,var=4)<br>\n",
    "Pr(x1,x2,target) = {(x1, x2, 'P')}, data objects with class positive<br>\n",
    "P = Rotate(Pr,45), rotate Pr by 45 degrees in counter-clockwise<br>\n",
    "Nr = Shift(Pr,x1,20), shift in x1-dimension by 20 units towards right, data objects with class negative, where\n",
    "Nr(x1,x2,target) = {(x1_shifted, x2, 'N')}<br>\n",
    "N = Rotate(Nr,45), rotate Nr by 45 degrees in counter-clockwise<br>"
   ]
  },
  {
   "cell_type": "code",
   "execution_count": null,
   "metadata": {},
   "outputs": [],
   "source": []
  },
  {
   "cell_type": "markdown",
   "metadata": {},
   "source": [
    "### Merge Data"
   ]
  },
  {
   "cell_type": "markdown",
   "metadata": {},
   "source": [
    "Merge Pr and Nr into a single set PNr. "
   ]
  },
  {
   "cell_type": "code",
   "execution_count": null,
   "metadata": {},
   "outputs": [],
   "source": []
  },
  {
   "cell_type": "markdown",
   "metadata": {},
   "source": [
    "# PART II"
   ]
  },
  {
   "cell_type": "markdown",
   "metadata": {},
   "source": [
    "## Visualize Data\n",
    "The axis scale should be the same. The class-P and -N data points will in red-circle and blue-triangle, respectively."
   ]
  },
  {
   "cell_type": "markdown",
   "metadata": {},
   "source": [
    "Plot Pr and P in the same figure on a separate sub-plots of 1 by 2:"
   ]
  },
  {
   "cell_type": "code",
   "execution_count": null,
   "metadata": {},
   "outputs": [],
   "source": []
  },
  {
   "cell_type": "markdown",
   "metadata": {},
   "source": [
    "Plot Nr and N in the same figure on a separate sub-plots of 1 by 2:"
   ]
  },
  {
   "cell_type": "code",
   "execution_count": null,
   "metadata": {},
   "outputs": [],
   "source": []
  },
  {
   "cell_type": "markdown",
   "metadata": {},
   "source": [
    "Plot {PNr}:"
   ]
  },
  {
   "cell_type": "code",
   "execution_count": null,
   "metadata": {},
   "outputs": [],
   "source": []
  },
  {
   "cell_type": "markdown",
   "metadata": {},
   "source": [
    "# PART III"
   ]
  },
  {
   "cell_type": "markdown",
   "metadata": {},
   "source": [
    "## Simple Classifier"
   ]
  },
  {
   "cell_type": "markdown",
   "metadata": {},
   "source": [
    "Classifier SimpleClassifier:\n",
    "Given data D(x1, x2),<br>\n",
    "If x1 + x2 > median, then predicted class<br>\n",
    "...    <b>N</b><br>\n",
    "Else<br>\n",
    "...    <b>P</b>"
   ]
  },
  {
   "cell_type": "markdown",
   "metadata": {},
   "source": [
    "Obtain predicted class labels using SimpleClassifier:"
   ]
  },
  {
   "cell_type": "code",
   "execution_count": null,
   "metadata": {},
   "outputs": [],
   "source": []
  },
  {
   "cell_type": "markdown",
   "metadata": {},
   "source": [
    "Print output Y(x1,x2,True_Target, Predicted_Target)"
   ]
  },
  {
   "cell_type": "code",
   "execution_count": null,
   "metadata": {},
   "outputs": [],
   "source": []
  },
  {
   "cell_type": "markdown",
   "metadata": {},
   "source": [
    "Plot output Y. Use the same marker shape. Predicted Target colors: P in Red and N in blue."
   ]
  },
  {
   "cell_type": "code",
   "execution_count": null,
   "metadata": {},
   "outputs": [],
   "source": []
  },
  {
   "cell_type": "markdown",
   "metadata": {},
   "source": [
    "Obtain the Confusion Matrix and print:"
   ]
  },
  {
   "cell_type": "code",
   "execution_count": null,
   "metadata": {},
   "outputs": [],
   "source": []
  },
  {
   "cell_type": "markdown",
   "metadata": {},
   "source": [
    "Claculate the Performance Scores of Accuracy, Recall (Sensitivity), Specificity, F1-score. Plot as bar-chart:"
   ]
  },
  {
   "cell_type": "code",
   "execution_count": null,
   "metadata": {},
   "outputs": [],
   "source": []
  },
  {
   "cell_type": "markdown",
   "metadata": {
    "collapsed": true
   },
   "source": [
    "## <center> REFERENCES </center>\n",
    "List resources (book, internet page, etc.) that you used to complete this challenge."
   ]
  },
  {
   "cell_type": "markdown",
   "metadata": {},
   "source": []
  }
 ],
 "metadata": {
  "kernelspec": {
   "display_name": "Python 3 (ipykernel)",
   "language": "python",
   "name": "python3"
  },
  "language_info": {
   "codemirror_mode": {
    "name": "ipython",
    "version": 3
   },
   "file_extension": ".py",
   "mimetype": "text/x-python",
   "name": "python",
   "nbconvert_exporter": "python",
   "pygments_lexer": "ipython3",
   "version": "3.9.13"
  }
 },
 "nbformat": 4,
 "nbformat_minor": 2
}
