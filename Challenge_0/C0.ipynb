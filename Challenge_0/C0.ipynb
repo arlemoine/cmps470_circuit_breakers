{
 "cells": [
  {
   "cell_type": "markdown",
   "metadata": {},
   "source": [
    "# <center>Challenge 0<center>"
   ]
  },
  {
   "cell_type": "markdown",
   "metadata": {},
   "source": [
    "<p>Team Name: Circuit Breakers\n",
    "<p>Student Names: Adriean Lemoine, Chris Smith"
   ]
  },
  {
   "cell_type": "markdown",
   "metadata": {},
   "source": [
    "## Instructions\n",
    "Use generic coding style unless hard-coded values are really necessary.<br>\n",
    "Your code must be efficient and use self-explanatory naming.<br>\n",
    "Use appropriate Python library methods for each task instead of using loops.<br>\n",
    "Run your entire code and save. Then submit this <b>saved</b> copy."
   ]
  },
  {
   "cell_type": "markdown",
   "metadata": {
    "collapsed": true,
    "jupyter": {
     "outputs_hidden": true
    }
   },
   "source": [
    "## Imports"
   ]
  },
  {
   "cell_type": "code",
   "execution_count": 1,
   "metadata": {},
   "outputs": [],
   "source": [
    "import math\n",
    "import matplotlib.pyplot as plt\n",
    "import numpy as np\n",
    "import pandas as pd\n",
    "import seaborn as sns\n",
    "from sklearn.metrics import confusion_matrix\n",
    "from sklearn.metrics import classification_report"
   ]
  },
  {
   "cell_type": "markdown",
   "metadata": {},
   "source": [
    "# PART I"
   ]
  },
  {
   "cell_type": "markdown",
   "metadata": {},
   "source": [
    "## Prepare Data"
   ]
  },
  {
   "cell_type": "markdown",
   "metadata": {
    "collapsed": true,
    "jupyter": {
     "outputs_hidden": true
    }
   },
   "source": [
    "<b>A. Create a data set D with 100 data points with the following attributes (features) as such:</b><br>\n",
    "seed = 0<br>\n",
    "a1 is from a normal distribution N(mean=20,var=4)<br>\n",
    "a2 is from a uniform distribution U(min=14,max=26)<br>"
   ]
  },
  {
   "cell_type": "code",
   "execution_count": 2,
   "metadata": {},
   "outputs": [
    {
     "name": "stdout",
     "output_type": "stream",
     "text": [
      "           a1         a2\n",
      "0   23.528105  19.086261\n",
      "1   20.800314  21.276719\n",
      "2   21.957476  14.230318\n",
      "3   24.481786  17.618898\n",
      "4   23.735116  21.922082\n",
      "..        ...        ...\n",
      "95  21.413146  23.972581\n",
      "96  20.021000  21.547782\n",
      "97  23.571741  24.471808\n",
      "98  20.253824  17.282504\n",
      "99  20.803979  23.576562\n",
      "\n",
      "[100 rows x 2 columns]\n"
     ]
    }
   ],
   "source": [
    "np.random.seed(0)\n",
    "n = 100\n",
    "\n",
    "# Create a1\n",
    "a1_mean = 20\n",
    "a1_var = 4\n",
    "a1 = np.random.normal(loc=a1_mean, scale=np.sqrt(a1_var), size=n)\n",
    "\n",
    "# Create a2\n",
    "a2_min = 14\n",
    "a2_max = 26\n",
    "a2 = np.random.uniform(low=a2_min, high=a2_max, size=n)\n",
    "\n",
    "# Create dataframe\n",
    "D = pd.DataFrame({\n",
    "    'a1': a1,\n",
    "    'a2': a2\n",
    "})\n",
    "\n",
    "print(D)"
   ]
  },
  {
   "cell_type": "markdown",
   "metadata": {},
   "source": [
    "x1 = 2*a1<br>\n",
    "x2 = normal distribution N(mean=40,var=4)<br>\n",
    "Pr(x1,x2,target) = {(x1, x2, 'P')}, data objects with class positive<br>\n",
    "P = Rotate(Pr,45), rotate Pr by 45 degrees in counter-clockwise<br>\n",
    "Nr = Shift(Pr,x1,20), shift in x1-dimension by 20 units towards right, data objects with class negative, where\n",
    "Nr(x1,x2,target) = {(x1_shifted, x2, 'N')}<br>\n",
    "N = Rotate(Nr,45), rotate Nr by 45 degrees in counter-clockwise<br>"
   ]
  },
  {
   "cell_type": "code",
   "execution_count": 3,
   "metadata": {},
   "outputs": [
    {
     "name": "stdout",
     "output_type": "stream",
     "text": [
      "\n",
      "DataFrame P =========================\n",
      "          x1         x2\n",
      "0   6.452134  60.095396\n",
      "1   0.167895  58.664278\n",
      "2   3.904482  58.200639\n",
      "3   7.313374  61.931575\n",
      "4   5.926472  61.206574\n",
      "..       ...        ...\n",
      "95  1.860746  58.704778\n",
      "96 -0.534638  57.162578\n",
      "97  8.972243  57.698709\n",
      "98 -2.407116  59.693582\n",
      "99  0.585322  58.257215\n",
      "\n",
      "[100 rows x 2 columns]\n",
      "\n",
      "DataFrame Pr =========================\n",
      "           x1         x2 target\n",
      "0   47.056209  37.931514      P\n",
      "1   41.600629  41.363189      P\n",
      "2   43.914952  38.393181      P\n",
      "3   48.963573  38.620900      P\n",
      "4   47.470232  39.088935      P\n",
      "..        ...        ...    ...\n",
      "95  42.826293  40.194800      P\n",
      "96  40.042000  40.798093      P\n",
      "97  47.143482  34.454814      P\n",
      "98  40.507648  43.911825      P\n",
      "99  41.607957  40.780187      P\n",
      "\n",
      "[100 rows x 3 columns]\n",
      "\n",
      "DataFrame D =========================\n",
      "           a1         a2         x1         x2\n",
      "0   23.528105  19.086261  47.056209  37.931514\n",
      "1   20.800314  21.276719  41.600629  41.363189\n",
      "2   21.957476  14.230318  43.914952  38.393181\n",
      "3   24.481786  17.618898  48.963573  38.620900\n",
      "4   23.735116  21.922082  47.470232  39.088935\n",
      "..        ...        ...        ...        ...\n",
      "95  21.413146  23.972581  42.826293  40.194800\n",
      "96  20.021000  21.547782  40.042000  40.798093\n",
      "97  23.571741  24.471808  47.143482  34.454814\n",
      "98  20.253824  17.282504  40.507648  43.911825\n",
      "99  20.803979  23.576562  41.607957  40.780187\n",
      "\n",
      "[100 rows x 4 columns]\n",
      "\n",
      "DataFrame Nr =========================\n",
      "           x1         x2 target\n",
      "0   67.056209  37.931514      N\n",
      "1   61.600629  41.363189      N\n",
      "2   63.914952  38.393181      N\n",
      "3   68.963573  38.620900      N\n",
      "4   67.470232  39.088935      N\n",
      "..        ...        ...    ...\n",
      "95  62.826293  40.194800      N\n",
      "96  60.042000  40.798093      N\n",
      "97  67.143482  34.454814      N\n",
      "98  60.507648  43.911825      N\n",
      "99  61.607957  40.780187      N\n",
      "\n",
      "[100 rows x 3 columns]\n",
      "\n",
      "DataFrame N =========================\n",
      "           x1         x2\n",
      "0   20.594269  74.237531\n",
      "1   14.310031  72.806414\n",
      "2   18.046618  72.342774\n",
      "3   21.455509  76.073711\n",
      "4   20.068608  75.348710\n",
      "..        ...        ...\n",
      "95  16.002882  72.846913\n",
      "96  13.607497  71.304713\n",
      "97  23.114378  71.840844\n",
      "98  11.735020  73.835717\n",
      "99  14.727458  72.399351\n",
      "\n",
      "[100 rows x 2 columns]\n"
     ]
    }
   ],
   "source": [
    "def rotate(pts, degrees):\n",
    "    \"\"\"\n",
    "    Rotate a given 2D point by a number of degrees with center of rotation at (0,0).\n",
    "    pts = DataFrame with 2 attributes, representing x1 and x2\n",
    "    degrees = Angle in the counter-clockwise direction.\n",
    "    \"\"\"\n",
    "    radians = math.radians(degrees)\n",
    "    R = []\n",
    "    for x1, x2 in pts:\n",
    "        rx1 = x1 * math.cos(radians) - x2 * math.sin(radians)\n",
    "        rx2 = x1 * math.sin(radians) + x2 * math.cos(radians)\n",
    "        R.append((rx1, rx2))\n",
    "    #\n",
    "    return R\n",
    "#\n",
    "\n",
    "def shift(pts, axis, shiftValue):\n",
    "    \"\"\"\n",
    "    Shift a given 2D point by a set value on either axis.\n",
    "    pts = DataFrame with 2 attributes, representing x1 and x2\n",
    "    axis = Either x1 or x2\n",
    "    shiftValue = Value to shift by on either axis\n",
    "    \"\"\"\n",
    "    S = []\n",
    "    # Shift on x1 axis\n",
    "    if axis == 'x1':\n",
    "        for x1, x2 in pts:\n",
    "            sx1 = x1 + shiftValue\n",
    "            S.append((sx1, x2))\n",
    "        #\n",
    "    elif axis == 'x2':\n",
    "        for x1, x2 in pts:\n",
    "            sx2 = x2 + shiftValue\n",
    "            S.append((x1, sx2))\n",
    "        #\n",
    "    else:\n",
    "        print('Invalid axis provided to function shift().')\n",
    "        sys.exit()\n",
    "    #\n",
    "    return S\n",
    "#\n",
    "\n",
    "# Create x1\n",
    "D['x1'] = 2 * D['a1']\n",
    "\n",
    "# Create x2\n",
    "x2_mean = 40\n",
    "x2_var = 4\n",
    "D['x2'] = np.random.normal(loc=x2_mean, scale=np.sqrt(x2_var), size=len(D))\n",
    "\n",
    "# Create Pr\n",
    "Pr = D[['x1', 'x2']].copy()\n",
    "Pr['target'] = 'P'\n",
    "\n",
    "# Create P\n",
    "Pr_x = Pr[['x1', 'x2']].values\n",
    "Pr_x_rotate = rotate(Pr_x, 45)\n",
    "P = pd.DataFrame(Pr_x_rotate, columns=['x1', 'x2'])\n",
    "\n",
    "# Create Nr\n",
    "Pr_x_shift = shift(Pr_x, 'x1', 20)\n",
    "Nr = pd.DataFrame(Pr_x_shift, columns=['x1', 'x2'])\n",
    "Nr['target'] = 'N'\n",
    "\n",
    "# Create N\n",
    "Nr_x = Nr[['x1', 'x2']].values\n",
    "Nr_x_rotate = rotate(Nr_x, 45)\n",
    "N = pd.DataFrame(Nr_x_rotate, columns=['x1', 'x2'])\n",
    "\n",
    "print('\\nDataFrame P =========================')\n",
    "print(P)\n",
    "print('\\nDataFrame Pr =========================')\n",
    "print(Pr)\n",
    "print('\\nDataFrame D =========================')\n",
    "print(D)\n",
    "print('\\nDataFrame Nr =========================')\n",
    "print(Nr)\n",
    "print('\\nDataFrame N =========================')\n",
    "print(N)"
   ]
  },
  {
   "cell_type": "markdown",
   "metadata": {},
   "source": [
    "### Merge Data"
   ]
  },
  {
   "cell_type": "markdown",
   "metadata": {},
   "source": [
    "Merge Pr and Nr into a single set PNr. "
   ]
  },
  {
   "cell_type": "code",
   "execution_count": 4,
   "metadata": {},
   "outputs": [
    {
     "name": "stdout",
     "output_type": "stream",
     "text": [
      "            x1         x2 target\n",
      "0    47.056209  37.931514      P\n",
      "1    41.600629  41.363189      P\n",
      "2    43.914952  38.393181      P\n",
      "3    48.963573  38.620900      P\n",
      "4    47.470232  39.088935      P\n",
      "..         ...        ...    ...\n",
      "195  62.826293  40.194800      N\n",
      "196  60.042000  40.798093      N\n",
      "197  67.143482  34.454814      N\n",
      "198  60.507648  43.911825      N\n",
      "199  61.607957  40.780187      N\n",
      "\n",
      "[200 rows x 3 columns]\n"
     ]
    }
   ],
   "source": [
    "PNr = pd.concat([Pr, Nr], ignore_index=True)\n",
    "\n",
    "print(PNr)"
   ]
  },
  {
   "cell_type": "markdown",
   "metadata": {},
   "source": [
    "# PART II"
   ]
  },
  {
   "cell_type": "markdown",
   "metadata": {},
   "source": [
    "## Visualize Data\n",
    "The axis scale should be the same. The class-P and -N data points will in red-circle and blue-triangle, respectively."
   ]
  },
  {
   "cell_type": "markdown",
   "metadata": {},
   "source": [
    "Plot Pr and P in the same figure on a separate sub-plots of 1 by 2:"
   ]
  },
  {
   "cell_type": "code",
   "execution_count": 5,
   "metadata": {},
   "outputs": [
    {
     "data": {
      "image/png": "[encoded data removed]",
      "text/plain": [
       "<Figure size 1500x500 with 2 Axes>"
      ]
     },
     "metadata": {},
     "output_type": "display_data"
    }
   ],
   "source": [
    "dfs = [P, Pr, N, Nr]\n",
    "\n",
    "x_min, x_max = np.min([df['x1'].min() for df in dfs]) - 5, np.max([df['x1'].max() for df in dfs]) + 5\n",
    "y_min, y_max = np.min([df['x2'].min() for df in dfs]) - 5, np.max([df['x2'].max() for df in dfs]) + 5\n",
    "\n",
    "fig, axs = plt.subplots(1, 2, figsize=(15, 5))\n",
    "\n",
    "scatter_plot_params = {\n",
    "    'xlabel': 'x1',\n",
    "    'ylabel': 'x2',\n",
    "    'xlim': (x_min, x_max),\n",
    "    'ylim': (y_min, y_max),\n",
    "    'aspect': 'equal'\n",
    "}\n",
    "\n",
    "for ax, (df, title) in zip(axs, [(Pr, 'Pr'), (P, 'P')]):\n",
    "    ax.scatter(df['x1'], df['x2'], c='r', marker='o',label=title)\n",
    "    ax.set_title(title)\n",
    "    ax.set(**scatter_plot_params)\n",
    "\n",
    "plt.show()"
   ]
  },
  {
   "cell_type": "markdown",
   "metadata": {},
   "source": [
    "Plot Nr and N in the same figure on a separate sub-plots of 1 by 2:"
   ]
  },
  {
   "cell_type": "code",
   "execution_count": 6,
   "metadata": {},
   "outputs": [
    {
     "data": {
      "image/png": "[encoded data removed]",
      "text/plain": [
       "<Figure size 1500x500 with 2 Axes>"
      ]
     },
     "metadata": {},
     "output_type": "display_data"
    }
   ],
   "source": [
    "fig, axs = plt.subplots(1, 2, figsize=(15, 5))\n",
    "\n",
    "for ax, (df, title) in zip(axs, [(Nr, 'Nr'), (N, 'N')]):\n",
    "    ax.scatter(df['x1'], df['x2'], c='b', marker='^',label=title)\n",
    "    ax.set_title(title)\n",
    "    ax.set(**scatter_plot_params)\n",
    "\n",
    "plt.show()"
   ]
  },
  {
   "cell_type": "markdown",
   "metadata": {},
   "source": [
    "Plot {PNr}:"
   ]
  },
  {
   "cell_type": "code",
   "execution_count": 7,
   "metadata": {},
   "outputs": [
    {
     "data": {
      "image/png": "[encoded data removed]",
      "text/plain": [
       "<Figure size 1500x500 with 1 Axes>"
      ]
     },
     "metadata": {},
     "output_type": "display_data"
    }
   ],
   "source": [
    "fig, axs = plt.subplots(1, 1, figsize=(15, 5))\n",
    "\n",
    "for ax, (df, title) in zip([axs], [(PNr, 'PNr')]):\n",
    "    ax.scatter(df['x1'], df['x2'], c='b', marker='^', label=title)\n",
    "    ax.set_title(title)\n",
    "    ax.set(**scatter_plot_params)\n",
    "\n",
    "plt.show()"
   ]
  },
  {
   "cell_type": "markdown",
   "metadata": {},
   "source": [
    "# PART III"
   ]
  },
  {
   "cell_type": "markdown",
   "metadata": {},
   "source": [
    "## Simple Classifier"
   ]
  },
  {
   "cell_type": "markdown",
   "metadata": {},
   "source": [
    "Classifier SimpleClassifier:\n",
    "Given data D(x1, x2),<br>\n",
    "If x1 + x2 > median, then predicted class<br>\n",
    "...    <b>N</b><br>\n",
    "Else<br>\n",
    "...    <b>P</b>"
   ]
  },
  {
   "cell_type": "markdown",
   "metadata": {},
   "source": [
    "Obtain predicted class labels using SimpleClassifier:"
   ]
  },
  {
   "cell_type": "code",
   "execution_count": 8,
   "metadata": {},
   "outputs": [
    {
     "name": "stdout",
     "output_type": "stream",
     "text": [
      "            x1         x2 Predicted_Classifier\n",
      "0    47.056209  37.931514                    P\n",
      "1    41.600629  41.363189                    P\n",
      "2    43.914952  38.393181                    P\n",
      "3    48.963573  38.620900                    P\n",
      "4    47.470232  39.088935                    P\n",
      "..         ...        ...                  ...\n",
      "195  62.826293  40.194800                    N\n",
      "196  60.042000  40.798093                    N\n",
      "197  67.143482  34.454814                    N\n",
      "198  60.507648  43.911825                    N\n",
      "199  61.607957  40.780187                    N\n",
      "\n",
      "[200 rows x 3 columns]\n"
     ]
    }
   ],
   "source": [
    "PNr['sum'] = PNr['x1'] + PNr['x2']\n",
    "threshold = PNr['sum'].median()\n",
    "\n",
    "PNr_predicted_classifier = np.where(PNr['sum'] > threshold, 'N', 'P')\n",
    "PNr['Predicted_Classifier'] = PNr_predicted_classifier\n",
    "\n",
    "print(PNr[['x1', 'x2', 'Predicted_Classifier']])"
   ]
  },
  {
   "cell_type": "markdown",
   "metadata": {},
   "source": [
    "Print output Y(x1,x2,True_Target, Predicted_Target)"
   ]
  },
  {
   "cell_type": "code",
   "execution_count": 9,
   "metadata": {},
   "outputs": [
    {
     "name": "stdout",
     "output_type": "stream",
     "text": [
      "PNr(x1, x2, True_Target, Predicted_Target)\n",
      "PNr(47.05620938387066, 37.93151431643107, P, P)\n",
      "PNr(41.600628833468896, 41.363189036563256, P, P)\n",
      "PNr(43.91495193642296, 38.39318067165232, P, P)\n",
      "PNr(48.963572796805835, 38.6209004444996, P, P)\n",
      "PNr(47.47023196059987, 39.088934992965314, P, P)\n",
      "PNr(36.09088848049436, 40.034958318050116, P, P)\n",
      "PNr(43.80035367010236, 39.292012177493035, P, P)\n",
      "PNr(39.39457116680921, 37.250097413163964, P, P)\n",
      "PNr(39.58712459282577, 38.71276319433422, P, P)\n",
      "PNr(41.64239400775349, 35.553193695551144, P, P)\n",
      "PNr(40.576174284643514, 41.25046290205437, P, P)\n",
      "PNr(45.8170940278519, 36.79588468878651, P, P)\n",
      "PNr(43.04415090058797, 37.791233321143096, P, P)\n",
      "PNr(40.48670006597131, 40.10433015852195, P, P)\n",
      "PNr(41.7754529309817, 38.52087400721737, P, P)\n",
      "PNr(41.334697309497066, 43.08602919081347, P, P)\n",
      "PNr(45.97631629263042, 37.414286180553106, P, P)\n",
      "PNr(39.179366944936795, 40.53410173869837, P, P)\n",
      "PNr(41.252270806603605, 39.92143436354501, P, P)\n",
      "PNr(36.5836170427931, 37.66381300451761, P, P)\n",
      "PNr(29.788040736663685, 41.046553321063506, P, P)\n",
      "PNr(42.61447438176144, 39.6569073375555, P, P)\n",
      "PNr(43.457744795438025, 41.54358110242733, P, P)\n",
      "PNr(37.03133991837423, 41.647008307927464, P, P)\n",
      "PNr(49.07901849595043, 44.32647189856138, P, N)\n",
      "PNr(34.18253730160494, 42.67305589887278, P, P)\n",
      "PNr(40.18303406920578, 39.261636324115116, P, P)\n",
      "PNr(39.251264599896665, 39.521241644848146, P, P)\n",
      "PNr(46.13111685743383, 42.19931919177423, P, P)\n",
      "PNr(45.87743507960114, 41.3105274614452, P, P)\n",
      "PNr(40.61978970278766, 41.28026305219518, P, P)\n",
      "PNr(41.5126500784087, 36.76608791137833, P, P)\n",
      "PNr(36.448857009479546, 39.95134775120213, P, P)\n",
      "PNr(32.07681412710429, 38.52393818158862, P, P)\n",
      "PNr(38.60835140269539, 40.559849198086475, P, P)\n",
      "PNr(40.62539587641592, 39.80369922071409, P, P)\n",
      "PNr(44.921162722910886, 41.82035781618519, P, P)\n",
      "PNr(44.80951939513764, 40.63443643038261, P, P)\n",
      "PNr(38.45069273036819, 41.572655924217955, P, P)\n",
      "PNr(38.790788997698655, 39.06716180652811, P, P)\n",
      "PNr(35.80578813973163, 38.1111074881635, P, P)\n",
      "PNr(34.3199282512841, 39.1799006135949, P, P)\n",
      "PNr(33.17491923749995, 39.96595917227712, P, P)\n",
      "PNr(47.80310158092716, 40.75830347111016, P, P)\n",
      "PNr(37.96139127299339, 44.5186179013817, P, P)\n",
      "PNr(38.247702793555256, 39.915485696678715, P, P)\n",
      "PNr(34.98881855980029, 38.08810999901445, P, P)\n",
      "PNr(43.10996142332764, 39.30803644860123, P, P)\n",
      "PNr(33.5444086097682, 39.07280805070781, P, P)\n",
      "PNr(39.14903887914412, 40.96296294754693, P, P)\n",
      "PNr(36.4181337552253, 36.91840597111075, P, P)\n",
      "PNr(41.54760999143705, 40.12652398840066, P, P)\n",
      "PNr(37.95677944972451, 40.31301307593075, P, P)\n",
      "PNr(35.27747126351035, 40.464362072400554, P, P)\n",
      "PNr(39.88727108664538, 38.805367862069275, P, P)\n",
      "PNr(41.71332748212167, 39.52415654052798, P, P)\n",
      "PNr(40.26606888953267, 37.151878182034935, P, P)\n",
      "PNr(41.20988759095913, 39.01336023327561, P, P)\n",
      "PNr(37.46271162527614, 38.914277047966564, P, P)\n",
      "PNr(38.549035336051446, 40.83210009252285, P, P)\n",
      "PNr(37.3101582088962, 37.68763513635618, P, P)\n",
      "PNr(38.561787353837836, 41.562396203419986, P, P)\n",
      "PNr(36.74741487182219, 42.988969088982735, P, P)\n",
      "PNr(33.09486959067329, 35.86002994997293, P, P)\n",
      "PNr(40.70970456901501, 40.852517461556204, P, P)\n",
      "PNr(38.392876255166954, 41.35381607006049, P, P)\n",
      "PNr(33.47920661213582, 38.72512594889554, P, P)\n",
      "PNr(41.851129022103095, 39.20545637134241, P, P)\n",
      "PNr(36.37080654246703, 39.73423884482609, P, P)\n",
      "PNr(40.207781583184556, 39.404418241196545, P, P)\n",
      "PNr(42.91636224871015, 39.38197406190576, P, P)\n",
      "PNr(40.515931643029646, 36.64799238734005, P, P)\n",
      "PNr(44.5576027381732, 42.30466312956624, P, P)\n",
      "PNr(35.06069671858539, 42.15923718407364, P, P)\n",
      "PNr(41.60936656471019, 38.373271481591594, P, P)\n",
      "PNr(37.260759636238745, 37.06715134439497, P, P)\n",
      "PNr(36.51681140327247, 41.04212975290552, P, P)\n",
      "PNr(37.684601340942336, 38.848424060373866, P, P)\n",
      "PNr(38.75378987149051, 40.28390632664156, P, P)\n",
      "PNr(40.22466136891898, 39.36134316570981, P, P)\n",
      "PNr(35.33940063686657, 41.383077502140374, P, P)\n",
      "PNr(43.60330594781675, 41.38949828731201, P, P)\n",
      "PNr(41.86264975892184, 38.548805243072835, P, P)\n",
      "PNr(33.8550252548911, 37.23327208920989, P, P)\n",
      "PNr(45.9530087751824, 36.83412320532984, P, P)\n",
      "PNr(47.58355670412233, 41.22075875821441, P, P)\n",
      "PNr(44.715118284638606, 37.622281484431944, P, P)\n",
      "PNr(39.2803006567506, 38.98636729140262, P, P)\n",
      "PNr(35.71698951395783, 38.807371923098984, P, P)\n",
      "PNr(44.217806907724544, 39.894865407460905, P, P)\n",
      "PNr(38.38729221210728, 36.12744038830699, P, P)\n",
      "PNr(44.88978028152971, 40.377557193587656, P, P)\n",
      "PNr(40.83309991230744, 41.04778204766841, P, P)\n",
      "PNr(43.90655614593485, 40.176844174089325, P, P)\n",
      "PNr(41.425465588697605, 39.37822765660306, P, P)\n",
      "PNr(42.82629267276779, 40.19480033253757, P, P)\n",
      "PNr(40.042000082883284, 40.79809269128026, P, P)\n",
      "PNr(47.14348197562334, 34.4548144871467, P, P)\n",
      "PNr(40.50764837081448, 43.91182461650139, P, P)\n",
      "PNr(41.60795745377881, 40.780186645375856, P, P)\n",
      "PNr(67.05620938387065, 37.93151431643107, N, N)\n",
      "PNr(61.600628833468896, 41.363189036563256, N, N)\n",
      "PNr(63.91495193642296, 38.39318067165232, N, N)\n",
      "PNr(68.96357279680583, 38.6209004444996, N, N)\n",
      "PNr(67.47023196059988, 39.088934992965314, N, N)\n",
      "PNr(56.09088848049436, 40.034958318050116, N, N)\n",
      "PNr(63.80035367010236, 39.292012177493035, N, N)\n",
      "PNr(59.39457116680921, 37.250097413163964, N, N)\n",
      "PNr(59.58712459282577, 38.71276319433422, N, N)\n",
      "PNr(61.64239400775349, 35.553193695551144, N, N)\n",
      "PNr(60.576174284643514, 41.25046290205437, N, N)\n",
      "PNr(65.81709402785191, 36.79588468878651, N, N)\n",
      "PNr(63.04415090058797, 37.791233321143096, N, N)\n",
      "PNr(60.48670006597131, 40.10433015852195, N, N)\n",
      "PNr(61.7754529309817, 38.52087400721737, N, N)\n",
      "PNr(61.334697309497066, 43.08602919081347, N, N)\n",
      "PNr(65.97631629263043, 37.414286180553106, N, N)\n",
      "PNr(59.179366944936795, 40.53410173869837, N, N)\n",
      "PNr(61.252270806603605, 39.92143436354501, N, N)\n",
      "PNr(56.5836170427931, 37.66381300451761, N, N)\n",
      "PNr(49.78804073666369, 41.046553321063506, N, N)\n",
      "PNr(62.61447438176144, 39.6569073375555, N, N)\n",
      "PNr(63.457744795438025, 41.54358110242733, N, N)\n",
      "PNr(57.03133991837423, 41.647008307927464, N, N)\n",
      "PNr(69.07901849595044, 44.32647189856138, N, N)\n",
      "PNr(54.18253730160494, 42.67305589887278, N, N)\n",
      "PNr(60.18303406920578, 39.261636324115116, N, N)\n",
      "PNr(59.251264599896665, 39.521241644848146, N, N)\n",
      "PNr(66.13111685743382, 42.19931919177423, N, N)\n",
      "PNr(65.87743507960114, 41.3105274614452, N, N)\n",
      "PNr(60.61978970278766, 41.28026305219518, N, N)\n",
      "PNr(61.5126500784087, 36.76608791137833, N, N)\n",
      "PNr(56.448857009479546, 39.95134775120213, N, N)\n",
      "PNr(52.07681412710429, 38.52393818158862, N, N)\n",
      "PNr(58.60835140269539, 40.559849198086475, N, N)\n",
      "PNr(60.62539587641592, 39.80369922071409, N, N)\n",
      "PNr(64.92116272291088, 41.82035781618519, N, N)\n",
      "PNr(64.80951939513764, 40.63443643038261, N, N)\n",
      "PNr(58.45069273036819, 41.572655924217955, N, N)\n",
      "PNr(58.790788997698655, 39.06716180652811, N, N)\n",
      "PNr(55.80578813973163, 38.1111074881635, N, N)\n",
      "PNr(54.3199282512841, 39.1799006135949, N, N)\n",
      "PNr(53.17491923749995, 39.96595917227712, N, N)\n",
      "PNr(67.80310158092716, 40.75830347111016, N, N)\n",
      "PNr(57.96139127299339, 44.5186179013817, N, N)\n",
      "PNr(58.247702793555256, 39.915485696678715, N, N)\n",
      "PNr(54.98881855980029, 38.08810999901445, N, N)\n",
      "PNr(63.10996142332764, 39.30803644860123, N, N)\n",
      "PNr(53.5444086097682, 39.07280805070781, N, N)\n",
      "PNr(59.14903887914412, 40.96296294754693, N, N)\n",
      "PNr(56.4181337552253, 36.91840597111075, N, N)\n",
      "PNr(61.54760999143705, 40.12652398840066, N, N)\n",
      "PNr(57.95677944972451, 40.31301307593075, N, N)\n",
      "PNr(55.27747126351035, 40.464362072400554, N, N)\n",
      "PNr(59.88727108664538, 38.805367862069275, N, N)\n",
      "PNr(61.71332748212167, 39.52415654052798, N, N)\n",
      "PNr(60.26606888953267, 37.151878182034935, N, N)\n",
      "PNr(61.20988759095913, 39.01336023327561, N, N)\n",
      "PNr(57.46271162527614, 38.914277047966564, N, N)\n",
      "PNr(58.549035336051446, 40.83210009252285, N, N)\n",
      "PNr(57.3101582088962, 37.68763513635618, N, N)\n",
      "PNr(58.561787353837836, 41.562396203419986, N, N)\n",
      "PNr(56.74741487182219, 42.988969088982735, N, N)\n",
      "PNr(53.09486959067329, 35.86002994997293, N, P)\n",
      "PNr(60.70970456901501, 40.852517461556204, N, N)\n",
      "PNr(58.392876255166954, 41.35381607006049, N, N)\n",
      "PNr(53.47920661213582, 38.72512594889554, N, N)\n",
      "PNr(61.851129022103095, 39.20545637134241, N, N)\n",
      "PNr(56.37080654246703, 39.73423884482609, N, N)\n",
      "PNr(60.207781583184556, 39.404418241196545, N, N)\n",
      "PNr(62.91636224871015, 39.38197406190576, N, N)\n",
      "PNr(60.515931643029646, 36.64799238734005, N, N)\n",
      "PNr(64.5576027381732, 42.30466312956624, N, N)\n",
      "PNr(55.06069671858539, 42.15923718407364, N, N)\n",
      "PNr(61.60936656471019, 38.373271481591594, N, N)\n",
      "PNr(57.260759636238745, 37.06715134439497, N, N)\n",
      "PNr(56.51681140327247, 41.04212975290552, N, N)\n",
      "PNr(57.684601340942336, 38.848424060373866, N, N)\n",
      "PNr(58.75378987149051, 40.28390632664156, N, N)\n",
      "PNr(60.22466136891898, 39.36134316570981, N, N)\n",
      "PNr(55.33940063686657, 41.383077502140374, N, N)\n",
      "PNr(63.60330594781675, 41.38949828731201, N, N)\n",
      "PNr(61.86264975892184, 38.548805243072835, N, N)\n",
      "PNr(53.8550252548911, 37.23327208920989, N, N)\n",
      "PNr(65.9530087751824, 36.83412320532984, N, N)\n",
      "PNr(67.58355670412233, 41.22075875821441, N, N)\n",
      "PNr(64.7151182846386, 37.622281484431944, N, N)\n",
      "PNr(59.2803006567506, 38.98636729140262, N, N)\n",
      "PNr(55.71698951395783, 38.807371923098984, N, N)\n",
      "PNr(64.21780690772454, 39.894865407460905, N, N)\n",
      "PNr(58.38729221210728, 36.12744038830699, N, N)\n",
      "PNr(64.88978028152971, 40.377557193587656, N, N)\n",
      "PNr(60.83309991230744, 41.04778204766841, N, N)\n",
      "PNr(63.90655614593485, 40.176844174089325, N, N)\n",
      "PNr(61.425465588697605, 39.37822765660306, N, N)\n",
      "PNr(62.82629267276779, 40.19480033253757, N, N)\n",
      "PNr(60.042000082883284, 40.79809269128026, N, N)\n",
      "PNr(67.14348197562333, 34.4548144871467, N, N)\n",
      "PNr(60.50764837081448, 43.91182461650139, N, N)\n",
      "PNr(61.60795745377881, 40.780186645375856, N, N)\n"
     ]
    }
   ],
   "source": [
    "print(\"PNr(x1, x2, True_Target, Predicted_Target)\")\n",
    "\n",
    "for i in range(len(PNr)):\n",
    "    x1 = PNr.loc[i, 'x1']\n",
    "    x2 = PNr.loc[i, 'x2']\n",
    "    true_target = PNr.loc[i, 'target']\n",
    "    predicted_target = PNr.loc[i, 'Predicted_Classifier']\n",
    "\n",
    "    print(\"PNr({}, {}, {}, {})\".format(x1, x2, true_target, predicted_target))\n"
   ]
  },
  {
   "cell_type": "markdown",
   "metadata": {},
   "source": [
    "Plot output Y. Use the same marker shape. Predicted Target colors: P in Red and N in blue."
   ]
  },
  {
   "cell_type": "code",
   "execution_count": 10,
   "metadata": {},
   "outputs": [
    {
     "data": {
      "image/png": "[encoded data removed]",
      "text/plain": [
       "<Figure size 1500x500 with 1 Axes>"
      ]
     },
     "metadata": {},
     "output_type": "display_data"
    }
   ],
   "source": [
    "plt.figure(figsize=(15, 5))\n",
    "\n",
    "for i in range(len(PNr)):\n",
    "    x1 = PNr.loc[i, 'x1']\n",
    "    x2 = PNr.loc[i, 'x2']\n",
    "    predicted_target = PNr.loc[i, 'Predicted_Classifier']\n",
    "\n",
    "    color = 'red' if predicted_target == 'P' else 'blue'\n",
    "    plt.scatter(x1, x2, color=color, marker='^')\n",
    "\n",
    "plt.xlabel(scatter_plot_params['xlabel'])\n",
    "plt.ylabel(scatter_plot_params['ylabel'])\n",
    "plt.xlim(scatter_plot_params['xlim'])\n",
    "plt.ylim(scatter_plot_params['ylim'])\n",
    "plt.gca().set_aspect(scatter_plot_params['aspect'])\n",
    "\n",
    "plt.scatter([], [], color='red', marker='^', label='Predicted: P')\n",
    "plt.scatter([], [], color='blue', marker='^', label='Predicted: N')\n",
    "plt.legend()\n",
    "\n",
    "plt.show()"
   ]
  },
  {
   "cell_type": "markdown",
   "metadata": {},
   "source": [
    "Obtain the Confusion Matrix and print:"
   ]
  },
  {
   "cell_type": "code",
   "execution_count": 11,
   "metadata": {},
   "outputs": [
    {
     "data": {
      "image/png": "[encoded data removed]",
      "text/plain": [
       "<Figure size 640x480 with 2 Axes>"
      ]
     },
     "metadata": {},
     "output_type": "display_data"
    }
   ],
   "source": [
    "actual_value = PNr['target']\n",
    "prediction = PNr['Predicted_Classifier']\n",
    "\n",
    "cm = confusion_matrix(actual_value, prediction, labels=['P', 'N'])\n",
    "\n",
    "sns.heatmap(cm, annot=True, fmt='d', cmap='Blues', xticklabels=['P', 'N'], yticklabels=['P', 'N'])\n",
    "plt.xlabel('Prediction')\n",
    "plt.ylabel('Actual Value')\n",
    "plt.title('Confusion Matrix')\n",
    "plt.gca().xaxis.set_label_position('top') \n",
    "plt.gca().xaxis.tick_top()\n",
    "plt.show()\n"
   ]
  },
  {
   "cell_type": "markdown",
   "metadata": {},
   "source": [
    "Claculate the Performance Scores of Accuracy, Recall (Sensitivity), Specificity, F1-score. Plot as bar-chart:"
   ]
  },
  {
   "cell_type": "code",
   "execution_count": 12,
   "metadata": {},
   "outputs": [
    {
     "name": "stdout",
     "output_type": "stream",
     "text": [
      "Accuracy: 0.9900\n",
      "Recall (Sensitivity): 0.9900\n",
      "Specificity: 0.9900\n",
      "F1-score: 0.9900\n"
     ]
    },
    {
     "data": {
      "image/png": "[encoded data removed]",
      "text/plain": [
       "<Figure size 1000x500 with 1 Axes>"
      ]
     },
     "metadata": {},
     "output_type": "display_data"
    }
   ],
   "source": [
    "TP = cm[0, 0] \n",
    "FP = cm[0, 1]  \n",
    "FN = cm[1, 0]  \n",
    "TN = cm[1, 1] \n",
    "\n",
    "accuracy = (TP + TN) / (TP + TN + FP + FN)\n",
    "\n",
    "recall = TP / (TP + FN) if TP + FN != 0 else 0\n",
    "\n",
    "specificity = TN / (TN + FP) if TN + FP != 0 else 0\n",
    "\n",
    "precision = TP / (TP + FP) if TP + FP != 0 else 0\n",
    "\n",
    "f1 = 2 * (precision * recall) / (precision + recall) if precision + recall != 0 else 0\n",
    "\n",
    "print(f\"Accuracy: {accuracy:.4f}\")\n",
    "print(f\"Recall (Sensitivity): {recall:.4f}\")\n",
    "print(f\"Specificity: {specificity:.4f}\")\n",
    "print(f\"F1-score: {f1:.4f}\")\n",
    "\n",
    "metrics = ['Accuracy', 'Recall (Sensitivity)', 'Specificity', 'Precision', 'F1-score']\n",
    "values = [accuracy, recall, specificity, precision, f1]\n",
    "\n",
    "plt.figure(figsize=(10, 5))\n",
    "plt.bar(metrics, values, color=['blue', 'green', 'orange', 'purple', 'red'])\n",
    "plt.ylim(0, 1)\n",
    "plt.title('Performance Metrics')\n",
    "plt.ylabel('Score')\n",
    "plt.show()"
   ]
  },
  {
   "cell_type": "markdown",
   "metadata": {
    "collapsed": true,
    "jupyter": {
     "outputs_hidden": true
    }
   },
   "source": [
    "## <center> REFERENCES </center>\n",
    "List resources (book, internet page, etc.) that you used to complete this challenge."
   ]
  },
  {
   "cell_type": "markdown",
   "metadata": {},
   "source": [
    "references: \n",
    "\n",
    "https://pandas.pydata.org/docs/reference/api/pandas.DataFrame.where.html\n",
    "\n",
    "https://matplotlib.org/stable/api/_as_gen/matplotlib.pyplot.subplots.html\n",
    "\n",
    "https://www.w3schools.com/python/ref_func_zip.asp\n",
    "\n",
    "https://docs.python.org/3.3/library/functions.html#zip\n",
    "\n",
    "https://www.w3schools.com/python/python_ml_confusion_matrix.asp\n",
    "\n",
    "https://www.geeksforgeeks.org/confusion-matrix-machine-learning/#\n",
    "\n",
    "https://scikit-learn.org/stable/modules/generated/sklearn.metrics.classification_report.html\n",
    "\n",
    "https://www.geeksforgeeks.org/compute-classification-report-and-confusion-matrix-in-python/\n",
    "\n",
    "https://keylabs.ai/blog/how-to-use-a-confusion-matrix-for-model-evaluation/"
   ]
  },
  {
   "cell_type": "markdown",
   "metadata": {},
   "source": []
  }
 ],
 "metadata": {
  "kernelspec": {
   "display_name": "Python 3 (ipykernel)",
   "language": "python",
   "name": "python3"
  },
  "language_info": {
   "codemirror_mode": {
    "name": "ipython",
    "version": 3
   },
   "file_extension": ".py",
   "mimetype": "text/x-python",
   "name": "python",
   "nbconvert_exporter": "python",
   "pygments_lexer": "ipython3",
   "version": "3.11.6"
  }
 },
 "nbformat": 4,
 "nbformat_minor": 4
}
