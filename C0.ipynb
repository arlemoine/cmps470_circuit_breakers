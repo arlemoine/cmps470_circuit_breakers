{
 "cells": [
  {
   "cell_type": "markdown",
   "metadata": {},
   "source": [
    "# <center>Challenge 0<center>"
   ]
  },
  {
   "cell_type": "markdown",
   "metadata": {},
   "source": [
    "<p>Team Name:\n",
    "<p>Student Names:"
   ]
  },
  {
   "cell_type": "markdown",
   "metadata": {},
   "source": [
    "## Instructions\n",
    "Use generic coding style unless hard-coded values are really necessary.<br>\n",
    "Your code must be efficient and use self-explanatory naming.<br>\n",
    "Use appropriate Python library methods for each task instead of using loops.<br>\n",
    "Run your entire code and save. Then submit this <b>saved</b> copy."
   ]
  },
  {
   "cell_type": "markdown",
   "metadata": {
    "collapsed": true,
    "jupyter": {
     "outputs_hidden": true
    }
   },
   "source": [
    "## Imports"
   ]
  },
  {
   "cell_type": "code",
   "execution_count": 29,
   "metadata": {},
   "outputs": [],
   "source": [
    "import math\n",
    "import matplotlib.pyplot as plt\n",
    "import numpy as np\n",
    "import pandas as pd\n",
    "import seaborn as sns\n",
    "from sklearn.metrics import confusion_matrix\n",
    "from sklearn.metrics import classification_report"
   ]
  },
  {
   "cell_type": "markdown",
   "metadata": {},
   "source": [
    "# PART I"
   ]
  },
  {
   "cell_type": "markdown",
   "metadata": {},
   "source": [
    "## Prepare Data"
   ]
  },
  {
   "cell_type": "markdown",
   "metadata": {
    "collapsed": true,
    "jupyter": {
     "outputs_hidden": true
    }
   },
   "source": [
    "<b>A. Create a data set D with 100 data points with the following attributes (features) as such:</b><br>\n",
    "seed = 0<br>\n",
    "a1 is from a normal distribution N(mean=20,var=4)<br>\n",
    "a2 is from a uniform distribution U(min=14,max=26)<br>"
   ]
  },
  {
   "cell_type": "code",
   "execution_count": 30,
   "metadata": {},
   "outputs": [
    {
     "name": "stdout",
     "output_type": "stream",
     "text": [
      "           a1         a2\n",
      "0   20.882455  21.072487\n",
      "1   19.338260  24.976812\n",
      "2   24.861542  14.717860\n",
      "3   19.495816  25.579960\n",
      "4   20.219220  20.851703\n",
      "..        ...        ...\n",
      "95  21.576476  25.537610\n",
      "96  19.109140  18.557341\n",
      "97  19.035760  19.964124\n",
      "98  20.987115  18.060064\n",
      "99  21.000975  22.913009\n",
      "\n",
      "[100 rows x 2 columns]\n"
     ]
    }
   ],
   "source": [
    "np.random.seed(0)\n",
    "n = 100\n",
    "\n",
    "# Create a1\n",
    "a1_mean = 20\n",
    "a1_var = 4\n",
    "a1 = np.random.normal(loc=a1_mean, scale=np.sqrt(a1_var), size=n)\n",
    "\n",
    "# Create a2\n",
    "a2_min = 14\n",
    "a2_max = 26\n",
    "a2 = np.random.uniform(low=a2_min, high=a2_max, size=n)\n",
    "\n",
    "# Create dataframe\n",
    "D = pd.DataFrame({\n",
    "    'a1': a1,\n",
    "    'a2': a2\n",
    "})\n",
    "\n",
    "print(D)"
   ]
  },
  {
   "cell_type": "markdown",
   "metadata": {},
   "source": [
    "x1 = 2*a1<br>\n",
    "x2 = normal distribution N(mean=40,var=4)<br>\n",
    "Pr(x1,x2,target) = {(x1, x2, 'P')}, data objects with class positive<br>\n",
    "P = Rotate(Pr,45), rotate Pr by 45 degrees in counter-clockwise<br>\n",
    "Nr = Shift(Pr,x1,20), shift in x1-dimension by 20 units towards right, data objects with class negative, where\n",
    "Nr(x1,x2,target) = {(x1_shifted, x2, 'N')}<br>\n",
    "N = Rotate(Nr,45), rotate Nr by 45 degrees in counter-clockwise<br>"
   ]
  },
  {
   "cell_type": "code",
   "execution_count": 31,
   "metadata": {},
   "outputs": [
    {
     "name": "stdout",
     "output_type": "stream",
     "text": [
      "\n",
      "DataFrame P =========================\n",
      "          x1         x2\n",
      "0  -0.104379  59.168881\n",
      "1  -0.032852  54.729710\n",
      "2   7.077670  63.241390\n",
      "3  -0.395972  55.538466\n",
      "4   1.778678  55.409912\n",
      "..       ...        ...\n",
      "95  3.988748  57.038741\n",
      "96 -2.149237  56.198047\n",
      "97 -0.761764  54.603023\n",
      "98 -0.022761  59.383287\n",
      "99  2.516101  56.883625\n",
      "\n",
      "[100 rows x 2 columns]\n",
      "\n",
      "DataFrame Pr =========================\n",
      "           x1         x2 target\n",
      "0   41.764910  41.912524      P\n",
      "1   38.676519  38.722979      P\n",
      "2   49.723085  39.713747      P\n",
      "3   38.991631  39.551620      P\n",
      "4   40.438439  37.923010      P\n",
      "..        ...        ...    ...\n",
      "95  43.152952  37.512010      P\n",
      "96  38.218280  41.257761      P\n",
      "97  38.071519  39.148816      P\n",
      "98  41.974231  42.006419      P\n",
      "99  42.001949  38.443645      P\n",
      "\n",
      "[100 rows x 3 columns]\n",
      "\n",
      "DataFrame D =========================\n",
      "           a1         a2         x1         x2\n",
      "0   20.882455  21.072487  41.764910  41.912524\n",
      "1   19.338260  24.976812  38.676519  38.722979\n",
      "2   24.861542  14.717860  49.723085  39.713747\n",
      "3   19.495816  25.579960  38.991631  39.551620\n",
      "4   20.219220  20.851703  40.438439  37.923010\n",
      "..        ...        ...        ...        ...\n",
      "95  21.576476  25.537610  43.152952  37.512010\n",
      "96  19.109140  18.557341  38.218280  41.257761\n",
      "97  19.035760  19.964124  38.071519  39.148816\n",
      "98  20.987115  18.060064  41.974231  42.006419\n",
      "99  21.000975  22.913009  42.001949  38.443645\n",
      "\n",
      "[100 rows x 4 columns]\n",
      "\n",
      "DataFrame Nr =========================\n",
      "           x1         x2 target\n",
      "0   61.764910  41.912524      N\n",
      "1   58.676519  38.722979      N\n",
      "2   69.723085  39.713747      N\n",
      "3   58.991631  39.551620      N\n",
      "4   60.438439  37.923010      N\n",
      "..        ...        ...    ...\n",
      "95  63.152952  37.512010      N\n",
      "96  58.218280  41.257761      N\n",
      "97  58.071519  39.148816      N\n",
      "98  61.974231  42.006419      N\n",
      "99  62.001949  38.443645      N\n",
      "\n",
      "[100 rows x 3 columns]\n",
      "\n",
      "DataFrame N =========================\n",
      "           x1         x2\n",
      "0   14.037757  73.311016\n",
      "1   14.109284  68.871846\n",
      "2   21.219806  77.383526\n",
      "3   13.746164  69.680602\n",
      "4   15.920813  69.552048\n",
      "..        ...        ...\n",
      "95  18.130884  71.180877\n",
      "96  11.992898  70.340183\n",
      "97  13.380372  68.745158\n",
      "98  14.119375  73.525423\n",
      "99  16.658237  71.025761\n",
      "\n",
      "[100 rows x 2 columns]\n"
     ]
    }
   ],
   "source": [
    "def rotate(pts, degrees):\n",
    "    \"\"\"\n",
    "    Rotate a given 2D point by a number of degrees with center of rotation at (0,0).\n",
    "    pts = DataFrame with 2 attributes, representing x1 and x2\n",
    "    degrees = Angle in the counter-clockwise direction.\n",
    "    \"\"\"\n",
    "    radians = math.radians(degrees)\n",
    "    R = []\n",
    "    for x1, x2 in pts:\n",
    "        rx1 = x1 * math.cos(radians) - x2 * math.sin(radians)\n",
    "        rx2 = x1 * math.sin(radians) + x2 * math.cos(radians)\n",
    "        R.append((rx1, rx2))\n",
    "    #\n",
    "    return R\n",
    "#\n",
    "\n",
    "def shift(pts, axis, shiftValue):\n",
    "    \"\"\"\n",
    "    Shift a given 2D point by a set value on either axis.\n",
    "    pts = DataFrame with 2 attributes, representing x1 and x2\n",
    "    axis = Either x1 or x2\n",
    "    shiftValue = Value to shift by on either axis\n",
    "    \"\"\"\n",
    "    S = []\n",
    "    # Shift on x1 axis\n",
    "    if axis == 'x1':\n",
    "        for x1, x2 in pts:\n",
    "            sx1 = x1 + shiftValue\n",
    "            S.append((sx1, x2))\n",
    "        #\n",
    "    elif axis == 'x2':\n",
    "        for x1, x2 in pts:\n",
    "            sx2 = x2 + shiftValue\n",
    "            S.append((x1, sx2))\n",
    "        #\n",
    "    else:\n",
    "        print('Invalid axis provided to function shift().')\n",
    "        sys.exit()\n",
    "    #\n",
    "    return S\n",
    "#\n",
    "\n",
    "# Create x1\n",
    "D['x1'] = 2 * D['a1']\n",
    "\n",
    "# Create x2\n",
    "x2_mean = 40\n",
    "x2_var = 4\n",
    "D['x2'] = np.random.normal(loc=x2_mean, scale=np.sqrt(x2_var), size=len(D))\n",
    "\n",
    "# Create Pr\n",
    "Pr = D[['x1', 'x2']].copy()\n",
    "Pr['target'] = 'P'\n",
    "\n",
    "# Create P\n",
    "Pr_x = Pr[['x1', 'x2']].values\n",
    "Pr_x_rotate = rotate(Pr_x, 45)\n",
    "P = pd.DataFrame(Pr_x_rotate, columns=['x1', 'x2'])\n",
    "\n",
    "# Create Nr\n",
    "Pr_x_shift = shift(Pr_x, 'x1', 20)\n",
    "Nr = pd.DataFrame(Pr_x_shift, columns=['x1', 'x2'])\n",
    "Nr['target'] = 'N'\n",
    "\n",
    "# Create N\n",
    "Nr_x = Nr[['x1', 'x2']].values\n",
    "Nr_x_rotate = rotate(Nr_x, 45)\n",
    "N = pd.DataFrame(Nr_x_rotate, columns=['x1', 'x2'])\n",
    "\n",
    "print('\\nDataFrame P =========================')\n",
    "print(P)\n",
    "print('\\nDataFrame Pr =========================')\n",
    "print(Pr)\n",
    "print('\\nDataFrame D =========================')\n",
    "print(D)\n",
    "print('\\nDataFrame Nr =========================')\n",
    "print(Nr)\n",
    "print('\\nDataFrame N =========================')\n",
    "print(N)"
   ]
  },
  {
   "cell_type": "markdown",
   "metadata": {},
   "source": [
    "### Merge Data"
   ]
  },
  {
   "cell_type": "markdown",
   "metadata": {},
   "source": [
    "Merge Pr and Nr into a single set PNr. "
   ]
  },
  {
   "cell_type": "code",
   "execution_count": 32,
   "metadata": {},
   "outputs": [
    {
     "name": "stdout",
     "output_type": "stream",
     "text": [
      "            x1         x2 target\n",
      "0    41.764910  41.912524      P\n",
      "1    38.676519  38.722979      P\n",
      "2    49.723085  39.713747      P\n",
      "3    38.991631  39.551620      P\n",
      "4    40.438439  37.923010      P\n",
      "..         ...        ...    ...\n",
      "195  63.152952  37.512010      N\n",
      "196  58.218280  41.257761      N\n",
      "197  58.071519  39.148816      N\n",
      "198  61.974231  42.006419      N\n",
      "199  62.001949  38.443645      N\n",
      "\n",
      "[200 rows x 3 columns]\n"
     ]
    }
   ],
   "source": [
    "PNr = pd.concat([Pr, Nr], ignore_index=True)\n",
    "\n",
    "print(PNr)"
   ]
  },
  {
   "cell_type": "markdown",
   "metadata": {},
   "source": [
    "# PART II"
   ]
  },
  {
   "cell_type": "markdown",
   "metadata": {},
   "source": [
    "## Visualize Data\n",
    "The axis scale should be the same. The class-P and -N data points will in red-circle and blue-triangle, respectively."
   ]
  },
  {
   "cell_type": "markdown",
   "metadata": {},
   "source": [
    "Plot Pr and P in the same figure on a separate sub-plots of 1 by 2:"
   ]
  },
  {
   "cell_type": "code",
   "execution_count": 33,
   "metadata": {},
   "outputs": [
    {
     "data": {
      "image/png": "[encoded data removed]",
      "text/plain": [
       "<Figure size 1500x500 with 2 Axes>"
      ]
     },
     "metadata": {},
     "output_type": "display_data"
    }
   ],
   "source": [
    "dfs = [P, Pr, N, Nr]\n",
    "\n",
    "x_min, x_max = np.min([df['x1'].min() for df in dfs]) - 5, np.max([df['x1'].max() for df in dfs]) + 5\n",
    "y_min, y_max = np.min([df['x2'].min() for df in dfs]) - 5, np.max([df['x2'].max() for df in dfs]) + 5\n",
    "\n",
    "fig, axs = plt.subplots(1, 2, figsize=(15, 5))\n",
    "\n",
    "scatter_plot_params = {\n",
    "    'xlabel': 'x1',\n",
    "    'ylabel': 'x2',\n",
    "    'xlim': (x_min, x_max),\n",
    "    'ylim': (y_min, y_max),\n",
    "    'aspect': 'equal'\n",
    "}\n",
    "\n",
    "for ax, (df, title) in zip(axs, [(Pr, 'Pr'), (P, 'P')]):\n",
    "    ax.scatter(df['x1'], df['x2'], c='r', marker='o',label=title)\n",
    "    ax.set_title(title)\n",
    "    ax.set(**scatter_plot_params)\n",
    "\n",
    "plt.show()"
   ]
  },
  {
   "cell_type": "markdown",
   "metadata": {},
   "source": [
    "Plot Nr and N in the same figure on a separate sub-plots of 1 by 2:"
   ]
  },
  {
   "cell_type": "code",
   "execution_count": 34,
   "metadata": {},
   "outputs": [
    {
     "data": {
      "image/png": "[encoded data removed]",
      "text/plain": [
       "<Figure size 1500x500 with 2 Axes>"
      ]
     },
     "metadata": {},
     "output_type": "display_data"
    }
   ],
   "source": [
    "fig, axs = plt.subplots(1, 2, figsize=(15, 5))\n",
    "\n",
    "for ax, (df, title) in zip(axs, [(Nr, 'Nr'), (N, 'N')]):\n",
    "    ax.scatter(df['x1'], df['x2'], c='b', marker='^',label=title)\n",
    "    ax.set_title(title)\n",
    "    ax.set(**scatter_plot_params)\n",
    "\n",
    "plt.show()"
   ]
  },
  {
   "cell_type": "markdown",
   "metadata": {},
   "source": [
    "Plot {PNr}:"
   ]
  },
  {
   "cell_type": "code",
   "execution_count": 35,
   "metadata": {},
   "outputs": [
    {
     "data": {
      "image/png": "[encoded data removed]",
      "text/plain": [
       "<Figure size 1500x500 with 1 Axes>"
      ]
     },
     "metadata": {},
     "output_type": "display_data"
    }
   ],
   "source": [
    "fig, axs = plt.subplots(1, 1, figsize=(15, 5))\n",
    "\n",
    "for ax, (df, title) in zip([axs], [(PNr, 'PNr')]):\n",
    "    ax.scatter(df['x1'], df['x2'], c='b', marker='^', label=title)\n",
    "    ax.set_title(title)\n",
    "    ax.set(**scatter_plot_params)\n",
    "\n",
    "plt.show()"
   ]
  },
  {
   "cell_type": "markdown",
   "metadata": {},
   "source": [
    "# PART III"
   ]
  },
  {
   "cell_type": "markdown",
   "metadata": {},
   "source": [
    "## Simple Classifier"
   ]
  },
  {
   "cell_type": "markdown",
   "metadata": {},
   "source": [
    "Classifier SimpleClassifier:\n",
    "Given data D(x1, x2),<br>\n",
    "If x1 + x2 > median, then predicted class<br>\n",
    "...    <b>N</b><br>\n",
    "Else<br>\n",
    "...    <b>P</b>"
   ]
  },
  {
   "cell_type": "markdown",
   "metadata": {},
   "source": [
    "Obtain predicted class labels using SimpleClassifier:"
   ]
  },
  {
   "cell_type": "code",
   "execution_count": 36,
   "metadata": {},
   "outputs": [
    {
     "name": "stdout",
     "output_type": "stream",
     "text": [
      "            x1         x2 Predicted_Classifier\n",
      "0    41.764910  41.912524                    P\n",
      "1    38.676519  38.722979                    P\n",
      "2    49.723085  39.713747                    P\n",
      "3    38.991631  39.551620                    P\n",
      "4    40.438439  37.923010                    P\n",
      "..         ...        ...                  ...\n",
      "195  63.152952  37.512010                    N\n",
      "196  58.218280  41.257761                    N\n",
      "197  58.071519  39.148816                    N\n",
      "198  61.974231  42.006419                    N\n",
      "199  62.001949  38.443645                    N\n",
      "\n",
      "[200 rows x 3 columns]\n"
     ]
    }
   ],
   "source": [
    "PNr['sum'] = PNr['x1'] + PNr['x2']\n",
    "threshold = PNr['sum'].median()\n",
    "\n",
    "PNr_predicted_classifier = np.where(PNr['sum'] > threshold, 'N', 'P')\n",
    "PNr['Predicted_Classifier'] = PNr_predicted_classifier\n",
    "\n",
    "print(PNr[['x1', 'x2', 'Predicted_Classifier']])"
   ]
  },
  {
   "cell_type": "markdown",
   "metadata": {},
   "source": [
    "Print output Y(x1,x2,True_Target, Predicted_Target)"
   ]
  },
  {
   "cell_type": "code",
   "execution_count": 37,
   "metadata": {},
   "outputs": [
    {
     "name": "stdout",
     "output_type": "stream",
     "text": [
      "PNr(x1, x2, True_Target, Predicted_Target)\n",
      "PNr(41.76490994754017, 41.91252371476154, P, P)\n",
      "PNr(38.67651939242365, 38.722978889158995, P, P)\n",
      "PNr(49.72308474803112, 39.713747164685714, P, P)\n",
      "PNr(38.99163148158769, 39.55162033485495, P, P)\n",
      "PNr(40.43843936631273, 37.92300951978128, P, P)\n",
      "PNr(46.329924468246254, 39.65658190312141, P, P)\n",
      "PNr(36.36307038057503, 40.952692352693624, P, P)\n",
      "PNr(37.63345336827884, 39.17164346882419, P, P)\n",
      "PNr(40.75041290334814, 37.471833313713006, P, P)\n",
      "PNr(38.680520168882566, 38.853568887972344, P, P)\n",
      "PNr(35.228941550312776, 40.49963463184244, P, P)\n",
      "PNr(39.18049395764965, 42.294404163229835, P, P)\n",
      "PNr(38.56468421199503, 41.67188791354441, P, P)\n",
      "PNr(42.41388641043798, 40.57480729007686, P, P)\n",
      "PNr(33.34084588211322, 38.008807402173666, P, P)\n",
      "PNr(37.199283849240196, 41.81377893513187, P, P)\n",
      "PNr(44.60556403794868, 40.04842148877225, P, P)\n",
      "PNr(47.42932402892525, 39.520036530617915, P, P)\n",
      "PNr(33.95528176924654, 41.82022112781362, P, P)\n",
      "PNr(42.57939004357112, 41.23568950167856, P, P)\n",
      "PNr(36.077568459125516, 40.99923608773065, P, P)\n",
      "PNr(36.57258738113564, 37.69691150944913, P, P)\n",
      "PNr(36.512483266977384, 38.77896719872571, P, P)\n",
      "PNr(38.30996828335042, 36.592229184959955, P, P)\n",
      "PNr(43.985759307653446, 40.388874755599396, P, P)\n",
      "PNr(42.84968508350627, 40.05648249695724, P, P)\n",
      "PNr(40.23657697287616, 41.86512101263395, P, P)\n",
      "PNr(38.54675648607233, 40.424086637539354, P, P)\n",
      "PNr(40.01315537173644, 39.26411086289753, P, P)\n",
      "PNr(39.57627823177031, 44.222976808746495, P, P)\n",
      "PNr(43.17221327784788, 37.94085301152966, P, P)\n",
      "PNr(37.47371348083114, 37.32743938155692, P, P)\n",
      "PNr(39.97522036605696, 38.77886528441793, P, P)\n",
      "PNr(39.59572955276302, 41.04938852494657, P, P)\n",
      "PNr(39.790767396592564, 39.30138374890269, P, P)\n",
      "PNr(40.99687063425963, 39.11852307470306, P, P)\n",
      "PNr(40.790640364169995, 37.757424798204305, P, P)\n",
      "PNr(45.339394296966326, 42.945689459440494, P, P)\n",
      "PNr(39.65249757488946, 38.75325552494733, P, P)\n",
      "PNr(46.24612917379556, 37.8385960955075, P, P)\n",
      "PNr(38.77658791533348, 39.75493981461175, P, P)\n",
      "PNr(38.08907433088715, 38.38451380889809, P, P)\n",
      "PNr(40.402952755011405, 39.534887552369256, P, P)\n",
      "PNr(41.42175388939741, 42.6703006732518, P, P)\n",
      "PNr(41.0784496257868, 39.10708654661498, P, P)\n",
      "PNr(45.16785353355185, 39.9004226313769, P, P)\n",
      "PNr(44.55737191530114, 39.26291044183831, P, P)\n",
      "PNr(41.977761592484356, 39.61652086309656, P, P)\n",
      "PNr(38.65465496345379, 41.639359840152444, P, P)\n",
      "PNr(39.59754261477157, 41.063267448587, P, P)\n",
      "PNr(45.653592071687136, 39.31676992820258, P, P)\n",
      "PNr(40.885016491404, 38.13819903894634, P, P)\n",
      "PNr(34.75690746648102, 39.73156601143806, P, P)\n",
      "PNr(37.241739071807274, 41.66518722604866, P, P)\n",
      "PNr(37.68994706707437, 39.96529346209585, P, P)\n",
      "PNr(44.6088190815027, 39.74468355609283, P, P)\n",
      "PNr(39.57134406070341, 36.38416675156799, P, P)\n",
      "PNr(49.04042709488108, 41.98793795374338, P, N)\n",
      "PNr(42.62647788104171, 37.01774228236349, P, P)\n",
      "PNr(40.49922730132078, 37.43578503987618, P, P)\n",
      "PNr(38.25718432388604, 39.2485851804381, P, P)\n",
      "PNr(43.88871723871669, 40.06928775153558, P, P)\n",
      "PNr(39.03715543094372, 40.09015631616773, P, P)\n",
      "PNr(36.703506186331516, 38.47250621430731, P, P)\n",
      "PNr(42.27253087092355, 39.37372298560674, P, P)\n",
      "PNr(40.05103326682465, 38.786020928847556, P, P)\n",
      "PNr(44.75624290329817, 36.380897542352635, P, P)\n",
      "PNr(39.705626725004635, 39.48896451545791, P, P)\n",
      "PNr(28.56124813350978, 38.61240130636637, P, P)\n",
      "PNr(43.15746561671992, 40.83839551528033, P, P)\n",
      "PNr(32.48903646421095, 39.70959962687588, P, P)\n",
      "PNr(46.15502458163615, 41.92760259976417, P, P)\n",
      "PNr(47.28545895433628, 41.39244397645341, P, P)\n",
      "PNr(38.291874456380725, 41.79881092475179, P, P)\n",
      "PNr(35.34119235953842, 42.41675614630392, P, P)\n",
      "PNr(34.41170390132695, 41.38650740862468, P, P)\n",
      "PNr(43.490618485007325, 39.66727877727005, P, P)\n",
      "PNr(39.19152728951812, 42.70622622101397, P, P)\n",
      "PNr(37.60656026631146, 38.14274697396572, P, P)\n",
      "PNr(39.02632119501499, 39.929055026107676, P, P)\n",
      "PNr(48.35405875039086, 41.71929190352561, P, P)\n",
      "PNr(41.38767730835099, 39.42500678078559, P, P)\n",
      "PNr(42.98290780012982, 41.42989989247487, P, P)\n",
      "PNr(43.107630364492046, 38.39309479836958, P, P)\n",
      "PNr(44.07368453275179, 38.91903608401857, P, P)\n",
      "PNr(44.24540575474952, 41.092354852736776, P, P)\n",
      "PNr(37.158134212016094, 41.423778521037306, P, P)\n",
      "PNr(39.13924879030544, 42.394308980564105, P, P)\n",
      "PNr(36.956958765617244, 39.85986594989466, P, P)\n",
      "PNr(37.15534708677972, 40.59645424345251, P, P)\n",
      "PNr(44.56603094973868, 41.25238521456282, P, P)\n",
      "PNr(37.992977811222, 40.934864116538535, P, P)\n",
      "PNr(39.68339455526743, 37.394757136500424, P, P)\n",
      "PNr(37.22869463197671, 38.8598207006, P, P)\n",
      "PNr(37.62638891582754, 42.885900020193574, P, P)\n",
      "PNr(43.152951774158716, 37.512009731556184, P, P)\n",
      "PNr(38.21828003400558, 41.25776066292185, P, P)\n",
      "PNr(38.071519253171125, 39.14881574746515, P, P)\n",
      "PNr(41.97423064380572, 42.00641911963614, P, P)\n",
      "PNr(42.001949309988134, 38.44364478261273, P, P)\n",
      "PNr(61.76490994754017, 41.91252371476154, N, N)\n",
      "PNr(58.67651939242365, 38.722978889158995, N, N)\n",
      "PNr(69.72308474803111, 39.713747164685714, N, N)\n",
      "PNr(58.99163148158769, 39.55162033485495, N, N)\n",
      "PNr(60.43843936631273, 37.92300951978128, N, N)\n",
      "PNr(66.32992446824625, 39.65658190312141, N, N)\n",
      "PNr(56.36307038057503, 40.952692352693624, N, N)\n",
      "PNr(57.63345336827884, 39.17164346882419, N, N)\n",
      "PNr(60.75041290334814, 37.471833313713006, N, N)\n",
      "PNr(58.680520168882566, 38.853568887972344, N, N)\n",
      "PNr(55.228941550312776, 40.49963463184244, N, N)\n",
      "PNr(59.18049395764965, 42.294404163229835, N, N)\n",
      "PNr(58.56468421199503, 41.67188791354441, N, N)\n",
      "PNr(62.41388641043798, 40.57480729007686, N, N)\n",
      "PNr(53.34084588211322, 38.008807402173666, N, N)\n",
      "PNr(57.199283849240196, 41.81377893513187, N, N)\n",
      "PNr(64.60556403794868, 40.04842148877225, N, N)\n",
      "PNr(67.42932402892525, 39.520036530617915, N, N)\n",
      "PNr(53.95528176924654, 41.82022112781362, N, N)\n",
      "PNr(62.57939004357112, 41.23568950167856, N, N)\n",
      "PNr(56.077568459125516, 40.99923608773065, N, N)\n",
      "PNr(56.57258738113564, 37.69691150944913, N, N)\n",
      "PNr(56.512483266977384, 38.77896719872571, N, N)\n",
      "PNr(58.30996828335042, 36.592229184959955, N, N)\n",
      "PNr(63.985759307653446, 40.388874755599396, N, N)\n",
      "PNr(62.84968508350627, 40.05648249695724, N, N)\n",
      "PNr(60.23657697287616, 41.86512101263395, N, N)\n",
      "PNr(58.54675648607233, 40.424086637539354, N, N)\n",
      "PNr(60.01315537173644, 39.26411086289753, N, N)\n",
      "PNr(59.57627823177031, 44.222976808746495, N, N)\n",
      "PNr(63.17221327784788, 37.94085301152966, N, N)\n",
      "PNr(57.47371348083114, 37.32743938155692, N, N)\n",
      "PNr(59.97522036605696, 38.77886528441793, N, N)\n",
      "PNr(59.59572955276302, 41.04938852494657, N, N)\n",
      "PNr(59.790767396592564, 39.30138374890269, N, N)\n",
      "PNr(60.99687063425963, 39.11852307470306, N, N)\n",
      "PNr(60.790640364169995, 37.757424798204305, N, N)\n",
      "PNr(65.33939429696633, 42.945689459440494, N, N)\n",
      "PNr(59.65249757488946, 38.75325552494733, N, N)\n",
      "PNr(66.24612917379557, 37.8385960955075, N, N)\n",
      "PNr(58.77658791533348, 39.75493981461175, N, N)\n",
      "PNr(58.08907433088715, 38.38451380889809, N, N)\n",
      "PNr(60.402952755011405, 39.534887552369256, N, N)\n",
      "PNr(61.42175388939741, 42.6703006732518, N, N)\n",
      "PNr(61.0784496257868, 39.10708654661498, N, N)\n",
      "PNr(65.16785353355185, 39.9004226313769, N, N)\n",
      "PNr(64.55737191530113, 39.26291044183831, N, N)\n",
      "PNr(61.977761592484356, 39.61652086309656, N, N)\n",
      "PNr(58.65465496345379, 41.639359840152444, N, N)\n",
      "PNr(59.59754261477157, 41.063267448587, N, N)\n",
      "PNr(65.65359207168714, 39.31676992820258, N, N)\n",
      "PNr(60.885016491404, 38.13819903894634, N, N)\n",
      "PNr(54.75690746648102, 39.73156601143806, N, N)\n",
      "PNr(57.241739071807274, 41.66518722604866, N, N)\n",
      "PNr(57.68994706707437, 39.96529346209585, N, N)\n",
      "PNr(64.6088190815027, 39.74468355609283, N, N)\n",
      "PNr(59.57134406070341, 36.38416675156799, N, N)\n",
      "PNr(69.04042709488108, 41.98793795374338, N, N)\n",
      "PNr(62.62647788104171, 37.01774228236349, N, N)\n",
      "PNr(60.49922730132078, 37.43578503987618, N, N)\n",
      "PNr(58.25718432388604, 39.2485851804381, N, N)\n",
      "PNr(63.88871723871669, 40.06928775153558, N, N)\n",
      "PNr(59.03715543094372, 40.09015631616773, N, N)\n",
      "PNr(56.703506186331516, 38.47250621430731, N, N)\n",
      "PNr(62.27253087092355, 39.37372298560674, N, N)\n",
      "PNr(60.05103326682465, 38.786020928847556, N, N)\n",
      "PNr(64.75624290329817, 36.380897542352635, N, N)\n",
      "PNr(59.705626725004635, 39.48896451545791, N, N)\n",
      "PNr(48.56124813350978, 38.61240130636637, N, P)\n",
      "PNr(63.15746561671992, 40.83839551528033, N, N)\n",
      "PNr(52.48903646421095, 39.70959962687588, N, N)\n",
      "PNr(66.15502458163616, 41.92760259976417, N, N)\n",
      "PNr(67.28545895433628, 41.39244397645341, N, N)\n",
      "PNr(58.291874456380725, 41.79881092475179, N, N)\n",
      "PNr(55.34119235953842, 42.41675614630392, N, N)\n",
      "PNr(54.41170390132695, 41.38650740862468, N, N)\n",
      "PNr(63.490618485007325, 39.66727877727005, N, N)\n",
      "PNr(59.19152728951812, 42.70622622101397, N, N)\n",
      "PNr(57.60656026631146, 38.14274697396572, N, N)\n",
      "PNr(59.02632119501499, 39.929055026107676, N, N)\n",
      "PNr(68.35405875039086, 41.71929190352561, N, N)\n",
      "PNr(61.38767730835099, 39.42500678078559, N, N)\n",
      "PNr(62.98290780012982, 41.42989989247487, N, N)\n",
      "PNr(63.107630364492046, 38.39309479836958, N, N)\n",
      "PNr(64.0736845327518, 38.91903608401857, N, N)\n",
      "PNr(64.24540575474953, 41.092354852736776, N, N)\n",
      "PNr(57.158134212016094, 41.423778521037306, N, N)\n",
      "PNr(59.13924879030544, 42.394308980564105, N, N)\n",
      "PNr(56.956958765617244, 39.85986594989466, N, N)\n",
      "PNr(57.15534708677972, 40.59645424345251, N, N)\n",
      "PNr(64.56603094973869, 41.25238521456282, N, N)\n",
      "PNr(57.992977811222, 40.934864116538535, N, N)\n",
      "PNr(59.68339455526743, 37.394757136500424, N, N)\n",
      "PNr(57.22869463197671, 38.8598207006, N, N)\n",
      "PNr(57.62638891582754, 42.885900020193574, N, N)\n",
      "PNr(63.152951774158716, 37.512009731556184, N, N)\n",
      "PNr(58.21828003400558, 41.25776066292185, N, N)\n",
      "PNr(58.071519253171125, 39.14881574746515, N, N)\n",
      "PNr(61.97423064380572, 42.00641911963614, N, N)\n",
      "PNr(62.001949309988134, 38.44364478261273, N, N)\n"
     ]
    }
   ],
   "source": [
    "print(\"PNr(x1, x2, True_Target, Predicted_Target)\")\n",
    "\n",
    "for i in range(len(PNr)):\n",
    "    x1 = PNr.loc[i, 'x1']\n",
    "    x2 = PNr.loc[i, 'x2']\n",
    "    true_target = PNr.loc[i, 'target']\n",
    "    predicted_target = PNr.loc[i, 'Predicted_Classifier']\n",
    "\n",
    "    print(\"PNr({}, {}, {}, {})\".format(x1, x2, true_target, predicted_target))\n"
   ]
  },
  {
   "cell_type": "markdown",
   "metadata": {},
   "source": [
    "Plot output Y. Use the same marker shape. Predicted Target colors: P in Red and N in blue."
   ]
  },
  {
   "cell_type": "code",
   "execution_count": 38,
   "metadata": {},
   "outputs": [
    {
     "data": {
      "image/png": "[encoded data removed]",
      "text/plain": [
       "<Figure size 1500x500 with 1 Axes>"
      ]
     },
     "metadata": {},
     "output_type": "display_data"
    }
   ],
   "source": [
    "plt.figure(figsize=(15, 5))\n",
    "\n",
    "for i in range(len(PNr)):\n",
    "    x1 = PNr.loc[i, 'x1']\n",
    "    x2 = PNr.loc[i, 'x2']\n",
    "    predicted_target = PNr.loc[i, 'Predicted_Classifier']\n",
    "\n",
    "    color = 'red' if predicted_target == 'P' else 'blue'\n",
    "    plt.scatter(x1, x2, color=color, marker='^')\n",
    "\n",
    "plt.xlabel(scatter_plot_params['xlabel'])\n",
    "plt.ylabel(scatter_plot_params['ylabel'])\n",
    "plt.xlim(scatter_plot_params['xlim'])\n",
    "plt.ylim(scatter_plot_params['ylim'])\n",
    "plt.gca().set_aspect(scatter_plot_params['aspect'])\n",
    "\n",
    "plt.scatter([], [], color='red', marker='^', label='Predicted: P')\n",
    "plt.scatter([], [], color='blue', marker='^', label='Predicted: N')\n",
    "plt.legend()\n",
    "\n",
    "plt.show()"
   ]
  },
  {
   "cell_type": "markdown",
   "metadata": {},
   "source": [
    "Obtain the Confusion Matrix and print:"
   ]
  },
  {
   "cell_type": "code",
   "execution_count": 39,
   "metadata": {},
   "outputs": [
    {
     "data": {
      "image/png": "[encoded data removed]",
      "text/plain": [
       "<Figure size 640x480 with 2 Axes>"
      ]
     },
     "metadata": {},
     "output_type": "display_data"
    }
   ],
   "source": [
    "actual_value = PNr['target']\n",
    "prediction = PNr['Predicted_Classifier']\n",
    "\n",
    "cm = confusion_matrix(actual_value, prediction, labels=['P', 'N'])\n",
    "\n",
    "sns.heatmap(cm, annot=True, fmt='d', cmap='Blues', xticklabels=['P', 'N'], yticklabels=['P', 'N'])\n",
    "plt.xlabel('Prediction')\n",
    "plt.ylabel('Actual Value')\n",
    "plt.title('Confusion Matrix')\n",
    "plt.gca().xaxis.set_label_position('top') \n",
    "plt.gca().xaxis.tick_top()\n",
    "plt.show()\n"
   ]
  },
  {
   "cell_type": "markdown",
   "metadata": {},
   "source": [
    "Claculate the Performance Scores of Accuracy, Recall (Sensitivity), Specificity, F1-score. Plot as bar-chart:"
   ]
  },
  {
   "cell_type": "code",
   "execution_count": 40,
   "metadata": {},
   "outputs": [
    {
     "name": "stdout",
     "output_type": "stream",
     "text": [
      "Accuracy: 0.9900\n",
      "Recall (Sensitivity): 0.9900\n",
      "Specificity: 0.9900\n",
      "F1-score: 0.9900\n"
     ]
    }
   ],
   "source": [
    "TP = cm[0, 0] \n",
    "FP = cm[0, 1]  \n",
    "FN = cm[1, 0]  \n",
    "TN = cm[1, 1] \n",
    "\n",
    "accuracy = (TP + TN) / (TP + TN + FP + FN)\n",
    "\n",
    "recall = TP / (TP + FN) if TP + FN != 0 else 0\n",
    "\n",
    "specificity = TN / (TN + FP) if TN + FP != 0 else 0\n",
    "\n",
    "precision = TP / (TP + FP) if TP + FP != 0 else 0\n",
    "\n",
    "f1 = 2 * (precision * recall) / (precision + recall) if precision + recall != 0 else 0\n",
    "\n",
    "print(f\"Accuracy: {accuracy:.4f}\")\n",
    "print(f\"Recall (Sensitivity): {recall:.4f}\")\n",
    "print(f\"Specificity: {specificity:.4f}\")\n",
    "print(f\"F1-score: {f1:.4f}\")"
   ]
  },
  {
   "cell_type": "markdown",
   "metadata": {
    "collapsed": true,
    "jupyter": {
     "outputs_hidden": true
    }
   },
   "source": [
    "## <center> REFERENCES </center>\n",
    "List resources (book, internet page, etc.) that you used to complete this challenge."
   ]
  },
  {
   "cell_type": "markdown",
   "metadata": {},
   "source": [
    "references: \n",
    "\n",
    "https://pandas.pydata.org/docs/reference/api/pandas.DataFrame.where.html\n",
    "\n",
    "https://matplotlib.org/stable/api/_as_gen/matplotlib.pyplot.subplots.html\n",
    "\n",
    "https://www.w3schools.com/python/ref_func_zip.asp\n",
    "\n",
    "https://docs.python.org/3.3/library/functions.html#zip\n",
    "\n",
    "https://www.w3schools.com/python/python_ml_confusion_matrix.asp\n",
    "\n",
    "https://www.geeksforgeeks.org/confusion-matrix-machine-learning/#\n",
    "\n",
    "https://scikit-learn.org/stable/modules/generated/sklearn.metrics.classification_report.html\n",
    "\n",
    "https://www.geeksforgeeks.org/compute-classification-report-and-confusion-matrix-in-python/\n",
    "\n",
    "https://keylabs.ai/blog/how-to-use-a-confusion-matrix-for-model-evaluation/"
   ]
  },
  {
   "cell_type": "markdown",
   "metadata": {},
   "source": []
  }
 ],
 "metadata": {
  "kernelspec": {
   "display_name": "base",
   "language": "python",
   "name": "python3"
  },
  "language_info": {
   "codemirror_mode": {
    "name": "ipython",
    "version": 3
   },
   "file_extension": ".py",
   "mimetype": "text/x-python",
   "name": "python",
   "nbconvert_exporter": "python",
   "pygments_lexer": "ipython3",
   "version": "3.12.7"
  }
 },
 "nbformat": 4,
 "nbformat_minor": 4
}
